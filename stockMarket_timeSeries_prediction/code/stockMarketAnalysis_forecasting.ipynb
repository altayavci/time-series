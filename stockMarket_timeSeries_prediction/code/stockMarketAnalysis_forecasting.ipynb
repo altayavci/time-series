{
 "cells": [
  {
   "cell_type": "markdown",
   "id": "ed9b14b5-312d-4929-82e0-97078d4d3d4f",
   "metadata": {},
   "source": [
    "## Analyzing and Predicting Stock Market Prices Using Auto-ARIMA Model"
   ]
  },
  {
   "cell_type": "code",
   "execution_count": 1,
   "id": "10a393bb-24bb-483e-a95a-2df1e88269e2",
   "metadata": {},
   "outputs": [],
   "source": [
    "import pandas as pd"
   ]
  },
  {
   "cell_type": "markdown",
   "id": "3abf5e04-0d00-44e5-946b-ce16c110261f",
   "metadata": {},
   "source": [
    "### Data Analyzing"
   ]
  },
  {
   "cell_type": "code",
   "execution_count": 2,
   "id": "e673a97e-e640-44ea-911c-675c7b717b3c",
   "metadata": {},
   "outputs": [],
   "source": [
    "dataset=pd.read_csv(\"/Users/altayavci/Documents/Data Science/UdemyProjects/StockMarket/Data/BAJFINANCE.csv\")"
   ]
  },
  {
   "cell_type": "code",
   "execution_count": 3,
   "id": "e049120e-bd67-43b4-8076-4920feac024b",
   "metadata": {},
   "outputs": [],
   "source": [
    "dataset[\"Date\"]=pd.to_datetime(dataset[\"Date\"])\n",
    "dataset.set_index(\"Date\",inplace=True)"
   ]
  },
  {
   "cell_type": "code",
   "execution_count": 4,
   "id": "7cd4adb4-9cec-4945-ba84-4dedbfae55e0",
   "metadata": {},
   "outputs": [
    {
     "data": {
      "text/html": [
       "<div>\n",
       "<style scoped>\n",
       "    .dataframe tbody tr th:only-of-type {\n",
       "        vertical-align: middle;\n",
       "    }\n",
       "\n",
       "    .dataframe tbody tr th {\n",
       "        vertical-align: top;\n",
       "    }\n",
       "\n",
       "    .dataframe thead th {\n",
       "        text-align: right;\n",
       "    }\n",
       "</style>\n",
       "<table border=\"1\" class=\"dataframe\">\n",
       "  <thead>\n",
       "    <tr style=\"text-align: right;\">\n",
       "      <th></th>\n",
       "      <th>Symbol</th>\n",
       "      <th>Series</th>\n",
       "      <th>Prev Close</th>\n",
       "      <th>Open</th>\n",
       "      <th>High</th>\n",
       "      <th>Low</th>\n",
       "      <th>Last</th>\n",
       "      <th>Close</th>\n",
       "      <th>VWAP</th>\n",
       "      <th>Volume</th>\n",
       "      <th>Turnover</th>\n",
       "      <th>Trades</th>\n",
       "      <th>Deliverable Volume</th>\n",
       "      <th>%Deliverble</th>\n",
       "    </tr>\n",
       "    <tr>\n",
       "      <th>Date</th>\n",
       "      <th></th>\n",
       "      <th></th>\n",
       "      <th></th>\n",
       "      <th></th>\n",
       "      <th></th>\n",
       "      <th></th>\n",
       "      <th></th>\n",
       "      <th></th>\n",
       "      <th></th>\n",
       "      <th></th>\n",
       "      <th></th>\n",
       "      <th></th>\n",
       "      <th></th>\n",
       "      <th></th>\n",
       "    </tr>\n",
       "  </thead>\n",
       "  <tbody>\n",
       "    <tr>\n",
       "      <th>2000-01-03</th>\n",
       "      <td>BAJAUTOFIN</td>\n",
       "      <td>EQ</td>\n",
       "      <td>46.95</td>\n",
       "      <td>49.45</td>\n",
       "      <td>50.75</td>\n",
       "      <td>46.5</td>\n",
       "      <td>50.75</td>\n",
       "      <td>50.75</td>\n",
       "      <td>50.05</td>\n",
       "      <td>7600</td>\n",
       "      <td>3.803800e+10</td>\n",
       "      <td>NaN</td>\n",
       "      <td>NaN</td>\n",
       "      <td>NaN</td>\n",
       "    </tr>\n",
       "    <tr>\n",
       "      <th>2000-01-04</th>\n",
       "      <td>BAJAUTOFIN</td>\n",
       "      <td>EQ</td>\n",
       "      <td>50.75</td>\n",
       "      <td>53.20</td>\n",
       "      <td>53.20</td>\n",
       "      <td>47.9</td>\n",
       "      <td>48.00</td>\n",
       "      <td>48.10</td>\n",
       "      <td>48.56</td>\n",
       "      <td>5000</td>\n",
       "      <td>2.428000e+10</td>\n",
       "      <td>NaN</td>\n",
       "      <td>NaN</td>\n",
       "      <td>NaN</td>\n",
       "    </tr>\n",
       "    <tr>\n",
       "      <th>2000-01-05</th>\n",
       "      <td>BAJAUTOFIN</td>\n",
       "      <td>EQ</td>\n",
       "      <td>48.10</td>\n",
       "      <td>46.55</td>\n",
       "      <td>47.40</td>\n",
       "      <td>44.6</td>\n",
       "      <td>44.60</td>\n",
       "      <td>44.60</td>\n",
       "      <td>45.47</td>\n",
       "      <td>3500</td>\n",
       "      <td>1.591450e+10</td>\n",
       "      <td>NaN</td>\n",
       "      <td>NaN</td>\n",
       "      <td>NaN</td>\n",
       "    </tr>\n",
       "    <tr>\n",
       "      <th>2000-01-06</th>\n",
       "      <td>BAJAUTOFIN</td>\n",
       "      <td>EQ</td>\n",
       "      <td>44.60</td>\n",
       "      <td>43.50</td>\n",
       "      <td>46.00</td>\n",
       "      <td>42.1</td>\n",
       "      <td>46.00</td>\n",
       "      <td>45.25</td>\n",
       "      <td>44.43</td>\n",
       "      <td>6200</td>\n",
       "      <td>2.754750e+10</td>\n",
       "      <td>NaN</td>\n",
       "      <td>NaN</td>\n",
       "      <td>NaN</td>\n",
       "    </tr>\n",
       "    <tr>\n",
       "      <th>2000-01-07</th>\n",
       "      <td>BAJAUTOFIN</td>\n",
       "      <td>EQ</td>\n",
       "      <td>45.25</td>\n",
       "      <td>48.00</td>\n",
       "      <td>48.00</td>\n",
       "      <td>42.0</td>\n",
       "      <td>42.90</td>\n",
       "      <td>42.90</td>\n",
       "      <td>44.44</td>\n",
       "      <td>3500</td>\n",
       "      <td>1.555550e+10</td>\n",
       "      <td>NaN</td>\n",
       "      <td>NaN</td>\n",
       "      <td>NaN</td>\n",
       "    </tr>\n",
       "  </tbody>\n",
       "</table>\n",
       "</div>"
      ],
      "text/plain": [
       "                Symbol Series  Prev Close   Open   High   Low   Last  Close  \\\n",
       "Date                                                                          \n",
       "2000-01-03  BAJAUTOFIN     EQ       46.95  49.45  50.75  46.5  50.75  50.75   \n",
       "2000-01-04  BAJAUTOFIN     EQ       50.75  53.20  53.20  47.9  48.00  48.10   \n",
       "2000-01-05  BAJAUTOFIN     EQ       48.10  46.55  47.40  44.6  44.60  44.60   \n",
       "2000-01-06  BAJAUTOFIN     EQ       44.60  43.50  46.00  42.1  46.00  45.25   \n",
       "2000-01-07  BAJAUTOFIN     EQ       45.25  48.00  48.00  42.0  42.90  42.90   \n",
       "\n",
       "             VWAP  Volume      Turnover  Trades  Deliverable Volume  \\\n",
       "Date                                                                  \n",
       "2000-01-03  50.05    7600  3.803800e+10     NaN                 NaN   \n",
       "2000-01-04  48.56    5000  2.428000e+10     NaN                 NaN   \n",
       "2000-01-05  45.47    3500  1.591450e+10     NaN                 NaN   \n",
       "2000-01-06  44.43    6200  2.754750e+10     NaN                 NaN   \n",
       "2000-01-07  44.44    3500  1.555550e+10     NaN                 NaN   \n",
       "\n",
       "            %Deliverble  \n",
       "Date                     \n",
       "2000-01-03          NaN  \n",
       "2000-01-04          NaN  \n",
       "2000-01-05          NaN  \n",
       "2000-01-06          NaN  \n",
       "2000-01-07          NaN  "
      ]
     },
     "execution_count": 4,
     "metadata": {},
     "output_type": "execute_result"
    }
   ],
   "source": [
    "dataset.head()"
   ]
  },
  {
   "cell_type": "code",
   "execution_count": 5,
   "id": "2edec644-d788-4acc-997a-3eea5a9c5152",
   "metadata": {},
   "outputs": [
    {
     "data": {
      "text/plain": [
       "<AxesSubplot:xlabel='Date'>"
      ]
     },
     "execution_count": 5,
     "metadata": {},
     "output_type": "execute_result"
    },
    {
     "data": {
      "image/png": "[encoded data removed]",
      "text/plain": [
       "<Figure size 432x288 with 1 Axes>"
      ]
     },
     "metadata": {
      "needs_background": "light"
     },
     "output_type": "display_data"
    }
   ],
   "source": [
    "dataset[\"VWAP\"].plot()\n",
    "#Volume-weighted average price (VWAP) is a metric that shows the average price of a stock adjusted for its volume."
   ]
  },
  {
   "cell_type": "code",
   "execution_count": 6,
   "id": "7d495383-eb4e-4c28-a5a1-8f2efb6a65ec",
   "metadata": {},
   "outputs": [
    {
     "data": {
      "text/plain": [
       "Symbol                   0\n",
       "Series                   0\n",
       "Prev Close               0\n",
       "Open                     0\n",
       "High                     0\n",
       "Low                      0\n",
       "Last                     0\n",
       "Close                    0\n",
       "VWAP                     0\n",
       "Volume                   0\n",
       "Turnover                 0\n",
       "Trades                2779\n",
       "Deliverable Volume     446\n",
       "%Deliverble            446\n",
       "dtype: int64"
      ]
     },
     "execution_count": 6,
     "metadata": {},
     "output_type": "execute_result"
    }
   ],
   "source": [
    "dataset.isna().sum()"
   ]
  },
  {
   "cell_type": "code",
   "execution_count": 7,
   "id": "4cca6589-67ba-4770-adbd-01eda6af2f9e",
   "metadata": {},
   "outputs": [],
   "source": [
    "dataset.dropna(inplace=True)"
   ]
  },
  {
   "cell_type": "code",
   "execution_count": 8,
   "id": "a1e8aff8-1d4c-483b-8adf-259edb238697",
   "metadata": {},
   "outputs": [
    {
     "data": {
      "text/plain": [
       "False"
      ]
     },
     "execution_count": 8,
     "metadata": {},
     "output_type": "execute_result"
    }
   ],
   "source": [
    "dataset.isna().sum().any()"
   ]
  },
  {
   "cell_type": "code",
   "execution_count": 9,
   "id": "3dbe0e55-0806-48c0-b3f8-d1b29fa3f2fa",
   "metadata": {},
   "outputs": [],
   "source": [
    "df=dataset.copy()"
   ]
  },
  {
   "cell_type": "code",
   "execution_count": 10,
   "id": "70e904db-f372-4c56-a5d9-301957281bd9",
   "metadata": {},
   "outputs": [
    {
     "data": {
      "text/plain": [
       "Symbol                 object\n",
       "Series                 object\n",
       "Prev Close            float64\n",
       "Open                  float64\n",
       "High                  float64\n",
       "Low                   float64\n",
       "Last                  float64\n",
       "Close                 float64\n",
       "VWAP                  float64\n",
       "Volume                  int64\n",
       "Turnover              float64\n",
       "Trades                float64\n",
       "Deliverable Volume    float64\n",
       "%Deliverble           float64\n",
       "dtype: object"
      ]
     },
     "execution_count": 10,
     "metadata": {},
     "output_type": "execute_result"
    }
   ],
   "source": [
    "df.dtypes"
   ]
  },
  {
   "cell_type": "markdown",
   "id": "63db1c39-0722-48cf-8c85-1221104758d2",
   "metadata": {},
   "source": [
    "## Data Prep For the ARIMA (moving average) Model"
   ]
  },
  {
   "cell_type": "code",
   "execution_count": 11,
   "id": "9f68391e-f5f8-4471-b1ff-dab4da82a4bd",
   "metadata": {},
   "outputs": [],
   "source": [
    "lag_features=[\"High\",\"Low\",\"Volume\",\"Turnover\",\"Trades\"]"
   ]
  },
  {
   "cell_type": "code",
   "execution_count": 12,
   "id": "5b91fca5-c152-4526-8406-c21e858ba92b",
   "metadata": {},
   "outputs": [],
   "source": [
    "for feature in lag_features:\n",
    "    \n",
    "    df[feature+\"rolling_mean_3\"]=df[feature].rolling(window=3).mean()\n",
    "    df[feature+\"rolling_mean_7\"]=df[feature].rolling(window=7).mean()\n",
    "    \n",
    "    df[feature+\"rolling_std_3\"]=df[feature].rolling(window=3).std()\n",
    "    df[feature+\"rolling_std_7\"]=df[feature].rolling(window=7).std() \n",
    "\n",
    "#Since the ARIMA moving average model works with correlation calculation, we need to do shifting. For this, we used the rolling() method.\n"
   ]
  },
  {
   "cell_type": "code",
   "execution_count": 13,
   "id": "7dc6994d-3a3b-44be-a946-745f5e8f1910",
   "metadata": {},
   "outputs": [
    {
     "data": {
      "text/plain": [
       "Index(['Symbol', 'Series', 'Prev Close', 'Open', 'High', 'Low', 'Last',\n",
       "       'Close', 'VWAP', 'Volume', 'Turnover', 'Trades', 'Deliverable Volume',\n",
       "       '%Deliverble', 'Highrolling_mean_3', 'Highrolling_mean_7',\n",
       "       'Highrolling_std_3', 'Highrolling_std_7', 'Lowrolling_mean_3',\n",
       "       'Lowrolling_mean_7', 'Lowrolling_std_3', 'Lowrolling_std_7',\n",
       "       'Volumerolling_mean_3', 'Volumerolling_mean_7', 'Volumerolling_std_3',\n",
       "       'Volumerolling_std_7', 'Turnoverrolling_mean_3',\n",
       "       'Turnoverrolling_mean_7', 'Turnoverrolling_std_3',\n",
       "       'Turnoverrolling_std_7', 'Tradesrolling_mean_3', 'Tradesrolling_mean_7',\n",
       "       'Tradesrolling_std_3', 'Tradesrolling_std_7'],\n",
       "      dtype='object')"
      ]
     },
     "execution_count": 13,
     "metadata": {},
     "output_type": "execute_result"
    }
   ],
   "source": [
    "df.columns"
   ]
  },
  {
   "cell_type": "code",
   "execution_count": 14,
   "id": "114da653-63df-445e-bfcc-9f37d9693c72",
   "metadata": {},
   "outputs": [],
   "source": [
    "ind_features=['Highrolling_mean_3', 'Highrolling_mean_7',\n",
    "       'Lowrolling_mean_3', 'Lowrolling_mean_7', 'Volumerolling_mean_3',\n",
    "       'Volumerolling_mean_7', 'Turnoverrolling_mean_3',\n",
    "       'Turnoverrolling_mean_7', 'Tradesrolling_mean_3',\n",
    "       'Tradesrolling_mean_7', 'Highrolling_std_3', 'Highrolling_std_7',\n",
    "       'Lowrolling_std_3', 'Lowrolling_std_7', 'Volumerolling_std_3',\n",
    "       'Volumerolling_std_7', 'Turnoverrolling_std_3', 'Turnoverrolling_std_7',\n",
    "       'Tradesrolling_std_3', 'Tradesrolling_std_7']"
   ]
  },
  {
   "cell_type": "code",
   "execution_count": 15,
   "id": "545e138f-73de-45ad-8238-7c18c42c25f9",
   "metadata": {},
   "outputs": [
    {
     "data": {
      "text/plain": [
       "Symbol                    0\n",
       "Series                    0\n",
       "Prev Close                0\n",
       "Open                      0\n",
       "High                      0\n",
       "Low                       0\n",
       "Last                      0\n",
       "Close                     0\n",
       "VWAP                      0\n",
       "Volume                    0\n",
       "Turnover                  0\n",
       "Trades                    0\n",
       "Deliverable Volume        0\n",
       "%Deliverble               0\n",
       "Highrolling_mean_3        2\n",
       "Highrolling_mean_7        6\n",
       "Highrolling_std_3         2\n",
       "Highrolling_std_7         6\n",
       "Lowrolling_mean_3         2\n",
       "Lowrolling_mean_7         6\n",
       "Lowrolling_std_3          2\n",
       "Lowrolling_std_7          6\n",
       "Volumerolling_mean_3      2\n",
       "Volumerolling_mean_7      6\n",
       "Volumerolling_std_3       2\n",
       "Volumerolling_std_7       6\n",
       "Turnoverrolling_mean_3    2\n",
       "Turnoverrolling_mean_7    6\n",
       "Turnoverrolling_std_3     2\n",
       "Turnoverrolling_std_7     6\n",
       "Tradesrolling_mean_3      2\n",
       "Tradesrolling_mean_7      6\n",
       "Tradesrolling_std_3       2\n",
       "Tradesrolling_std_7       6\n",
       "dtype: int64"
      ]
     },
     "execution_count": 15,
     "metadata": {},
     "output_type": "execute_result"
    }
   ],
   "source": [
    "df.isna().sum()"
   ]
  },
  {
   "cell_type": "code",
   "execution_count": 16,
   "id": "ed254c36-ae6d-4f3c-9bbc-dca5656206aa",
   "metadata": {},
   "outputs": [],
   "source": [
    "df.dropna(inplace=True)"
   ]
  },
  {
   "cell_type": "code",
   "execution_count": 17,
   "id": "f5d5db16-7eeb-4cd9-bc86-0ae55f25aad6",
   "metadata": {},
   "outputs": [
    {
     "data": {
      "text/plain": [
       "False"
      ]
     },
     "execution_count": 17,
     "metadata": {},
     "output_type": "execute_result"
    }
   ],
   "source": [
    "df.isna().sum().any()"
   ]
  },
  {
   "cell_type": "code",
   "execution_count": 18,
   "id": "c1be005b-3d23-48e6-ae86-9802fe6de9c9",
   "metadata": {},
   "outputs": [
    {
     "data": {
      "text/plain": [
       "(2285, 34)"
      ]
     },
     "execution_count": 18,
     "metadata": {},
     "output_type": "execute_result"
    }
   ],
   "source": [
    "df.shape"
   ]
  },
  {
   "cell_type": "markdown",
   "id": "ee63ceaf-8e99-4681-a29d-3129cb7431d8",
   "metadata": {},
   "source": [
    "## Build the Auto-ARIMA Model"
   ]
  },
  {
   "cell_type": "code",
   "execution_count": 19,
   "id": "aaa66300-3d4e-48d4-b802-3eac8372ec3b",
   "metadata": {},
   "outputs": [],
   "source": [
    "X_train=df[0:1800]\n",
    "X_test=df[1800:]"
   ]
  },
  {
   "cell_type": "code",
   "execution_count": 20,
   "id": "eb67ffc2-060d-4cb0-9303-916e7cba18b8",
   "metadata": {},
   "outputs": [],
   "source": [
    "from pmdarima import auto_arima\n",
    "import warnings\n",
    "warnings.filterwarnings('ignore')"
   ]
  },
  {
   "cell_type": "code",
   "execution_count": 21,
   "id": "adf40452-fbf1-47b2-98c8-678a82620383",
   "metadata": {},
   "outputs": [
    {
     "name": "stdout",
     "output_type": "stream",
     "text": [
      "Performing stepwise search to minimize aic\n",
      " ARIMA(2,0,2)(0,0,0)[0] intercept   : AIC=20931.554, Time=1.27 sec\n",
      " ARIMA(0,0,0)(0,0,0)[0] intercept   : AIC=20925.239, Time=0.91 sec\n",
      " ARIMA(1,0,0)(0,0,0)[0] intercept   : AIC=20926.364, Time=0.95 sec\n",
      " ARIMA(0,0,1)(0,0,0)[0] intercept   : AIC=20926.336, Time=1.00 sec\n",
      " ARIMA(0,0,0)(0,0,0)[0]             : AIC=32616.913, Time=0.87 sec\n",
      " ARIMA(1,0,1)(0,0,0)[0] intercept   : AIC=20929.249, Time=1.05 sec\n",
      "\n",
      "Best model:  ARIMA(0,0,0)(0,0,0)[0] intercept\n",
      "Total fit time: 6.070 seconds\n"
     ]
    }
   ],
   "source": [
    "model=auto_arima(y=X_train[\"VWAP\"],exogenous=X_train[ind_features],trace=True)"
   ]
  },
  {
   "cell_type": "code",
   "execution_count": 22,
   "id": "11941f29-3db4-4ee1-966a-71c81916abac",
   "metadata": {},
   "outputs": [
    {
     "data": {
      "text/plain": [
       "ARIMA(order=(0, 0, 0), scoring_args={}, suppress_warnings=True)"
      ]
     },
     "execution_count": 22,
     "metadata": {},
     "output_type": "execute_result"
    }
   ],
   "source": [
    "model.fit(X_train[\"VWAP\"],X_train[ind_features])"
   ]
  },
  {
   "cell_type": "code",
   "execution_count": 23,
   "id": "1c68ee39-074a-4c55-9b82-88cfbfcebcbf",
   "metadata": {},
   "outputs": [],
   "source": [
    "prediction=model.predict(n_periods=len(X_test),exogenous=X_test[ind_features])"
   ]
  },
  {
   "cell_type": "code",
   "execution_count": 24,
   "id": "ff41bd90-6936-4b7c-a464-f9cc650a5bbe",
   "metadata": {},
   "outputs": [],
   "source": [
    "X_test[\"Prediction\"]=prediction"
   ]
  },
  {
   "cell_type": "code",
   "execution_count": 25,
   "id": "c48768d2-efe2-4d7c-8b0b-35a6ce44daff",
   "metadata": {},
   "outputs": [
    {
     "data": {
      "text/plain": [
       "<AxesSubplot:xlabel='Date'>"
      ]
     },
     "execution_count": 25,
     "metadata": {},
     "output_type": "execute_result"
    },
    {
     "data": {
      "image/png": "[encoded data removed]",
      "text/plain": [
       "<Figure size 1440x864 with 1 Axes>"
      ]
     },
     "metadata": {
      "needs_background": "light"
     },
     "output_type": "display_data"
    }
   ],
   "source": [
    "X_test[[\"VWAP\",\"Prediction\"]].plot(figsize=(20,12))"
   ]
  },
  {
   "cell_type": "markdown",
   "id": "10f010a4-f658-4f82-b912-b1a4ac32011f",
   "metadata": {},
   "source": [
    "## Metrics"
   ]
  },
  {
   "cell_type": "code",
   "execution_count": 26,
   "id": "68274a0a-caa2-43a2-8add-c9cc320c8d00",
   "metadata": {},
   "outputs": [],
   "source": [
    "from sklearn.metrics import mean_absolute_error, mean_squared_error\n",
    "import numpy as np"
   ]
  },
  {
   "cell_type": "code",
   "execution_count": 27,
   "id": "6a0ce114-dca5-4a37-ae6d-529487b1077a",
   "metadata": {},
   "outputs": [
    {
     "data": {
      "text/plain": [
       "187.88224201884955"
      ]
     },
     "execution_count": 27,
     "metadata": {},
     "output_type": "execute_result"
    }
   ],
   "source": [
    "np.sqrt(mean_squared_error(X_test['VWAP'],X_test['Prediction']))"
   ]
  },
  {
   "cell_type": "code",
   "execution_count": 28,
   "id": "425cb1bc-3ce9-4fba-af90-fd904bbab2e2",
   "metadata": {},
   "outputs": [
    {
     "data": {
      "text/plain": [
       "124.72494531693498"
      ]
     },
     "execution_count": 28,
     "metadata": {},
     "output_type": "execute_result"
    }
   ],
   "source": [
    "mean_absolute_error(X_test['VWAP'],X_test['Prediction'])"
   ]
  },
  {
   "cell_type": "markdown",
   "id": "ad6fc2a8-3669-476c-b5ce-0d4939c80145",
   "metadata": {},
   "source": [
    "### We dont need the cross validation phase on these model because auto-arima model did it."
   ]
  },
  {
   "cell_type": "code",
   "execution_count": null,
   "id": "26b70e5a-2006-4ddc-94d1-7b6dbd3661f1",
   "metadata": {},
   "outputs": [],
   "source": []
  }
 ],
 "metadata": {
  "kernelspec": {
   "display_name": "Python 3 (ipykernel)",
   "language": "python",
   "name": "python3"
  },
  "language_info": {
   "codemirror_mode": {
    "name": "ipython",
    "version": 3
   },
   "file_extension": ".py",
   "mimetype": "text/x-python",
   "name": "python",
   "nbconvert_exporter": "python",
   "pygments_lexer": "ipython3",
   "version": "3.9.7"
  }
 },
 "nbformat": 4,
 "nbformat_minor": 5
}
