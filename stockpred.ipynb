{
  "cells": [
    {
      "cell_type": "markdown",
      "metadata": {
        "id": "view-in-github",
        "colab_type": "text"
      },
      "source": [
        "<a href=\"https://colab.research.google.com/github/altayavci/time-series/blob/dev/stockpred.ipynb\" target=\"_parent\"><img src=\"https://colab.research.google.com/assets/colab-badge.svg\" alt=\"Open In Colab\"/></a>"
      ]
    },
    {
      "cell_type": "code",
      "source": [
        "import numpy as np \n",
        "import pandas as pd \n",
        "import matplotlib.pyplot as plt \n",
        "from pandas_datareader import data as pdr\n",
        "import yfinance as yfin\n",
        "yfin.pdr_override()"
      ],
      "metadata": {
        "id": "FkrKtyaEXIhj"
      },
      "execution_count": 114,
      "outputs": []
    },
    {
      "cell_type": "code",
      "execution_count": 115,
      "metadata": {
        "id": "rt8DfhM-lZo7"
      },
      "outputs": [],
      "source": [
        "start_date=\"2002-04-29\"\n",
        "end_date=\"2022-04-29\""
      ]
    },
    {
      "cell_type": "code",
      "execution_count": 116,
      "metadata": {
        "colab": {
          "base_uri": "https://localhost:8080/"
        },
        "id": "toWydJmolwR5",
        "outputId": "d935708a-29d0-46e2-bec3-8465b8e22a1f"
      },
      "outputs": [
        {
          "output_type": "stream",
          "name": "stdout",
          "text": [
            "\r[*********************100%***********************]  1 of 1 completed\n"
          ]
        }
      ],
      "source": [
        "df = pdr.get_data_yahoo(\"AAPL\",start_date,end_date)\n",
        "#data_reader  yfinance api'sini kullanıyor arkada"
      ]
    },
    {
      "cell_type": "code",
      "execution_count": 117,
      "metadata": {
        "colab": {
          "base_uri": "https://localhost:8080/",
          "height": 235
        },
        "id": "0P8ySO4obWPm",
        "outputId": "297f4763-b3c6-484f-dea4-61de5c441b2e"
      },
      "outputs": [
        {
          "output_type": "execute_result",
          "data": {
            "text/plain": [
              "                Open      High       Low     Close  Adj Close     Volume\n",
              "Date                                                                    \n",
              "2002-04-29  0.413571  0.429643  0.412321  0.427857   0.365318  272288800\n",
              "2002-04-30  0.426607  0.435357  0.424107  0.433393   0.370045  280963200\n",
              "2002-05-01  0.433750  0.433750  0.417143  0.428214   0.365623  214704000\n",
              "2002-05-02  0.425179  0.434643  0.421429  0.423036   0.361202  239344000\n",
              "2002-05-03  0.420893  0.428929  0.418393  0.419821   0.358457  230781600"
            ],
            "text/html": [
              "\n",
              "  <div id=\"df-00a26579-ee21-4617-82ec-8e152a719d4f\">\n",
              "    <div class=\"colab-df-container\">\n",
              "      <div>\n",
              "<style scoped>\n",
              "    .dataframe tbody tr th:only-of-type {\n",
              "        vertical-align: middle;\n",
              "    }\n",
              "\n",
              "    .dataframe tbody tr th {\n",
              "        vertical-align: top;\n",
              "    }\n",
              "\n",
              "    .dataframe thead th {\n",
              "        text-align: right;\n",
              "    }\n",
              "</style>\n",
              "<table border=\"1\" class=\"dataframe\">\n",
              "  <thead>\n",
              "    <tr style=\"text-align: right;\">\n",
              "      <th></th>\n",
              "      <th>Open</th>\n",
              "      <th>High</th>\n",
              "      <th>Low</th>\n",
              "      <th>Close</th>\n",
              "      <th>Adj Close</th>\n",
              "      <th>Volume</th>\n",
              "    </tr>\n",
              "    <tr>\n",
              "      <th>Date</th>\n",
              "      <th></th>\n",
              "      <th></th>\n",
              "      <th></th>\n",
              "      <th></th>\n",
              "      <th></th>\n",
              "      <th></th>\n",
              "    </tr>\n",
              "  </thead>\n",
              "  <tbody>\n",
              "    <tr>\n",
              "      <th>2002-04-29</th>\n",
              "      <td>0.413571</td>\n",
              "      <td>0.429643</td>\n",
              "      <td>0.412321</td>\n",
              "      <td>0.427857</td>\n",
              "      <td>0.365318</td>\n",
              "      <td>272288800</td>\n",
              "    </tr>\n",
              "    <tr>\n",
              "      <th>2002-04-30</th>\n",
              "      <td>0.426607</td>\n",
              "      <td>0.435357</td>\n",
              "      <td>0.424107</td>\n",
              "      <td>0.433393</td>\n",
              "      <td>0.370045</td>\n",
              "      <td>280963200</td>\n",
              "    </tr>\n",
              "    <tr>\n",
              "      <th>2002-05-01</th>\n",
              "      <td>0.433750</td>\n",
              "      <td>0.433750</td>\n",
              "      <td>0.417143</td>\n",
              "      <td>0.428214</td>\n",
              "      <td>0.365623</td>\n",
              "      <td>214704000</td>\n",
              "    </tr>\n",
              "    <tr>\n",
              "      <th>2002-05-02</th>\n",
              "      <td>0.425179</td>\n",
              "      <td>0.434643</td>\n",
              "      <td>0.421429</td>\n",
              "      <td>0.423036</td>\n",
              "      <td>0.361202</td>\n",
              "      <td>239344000</td>\n",
              "    </tr>\n",
              "    <tr>\n",
              "      <th>2002-05-03</th>\n",
              "      <td>0.420893</td>\n",
              "      <td>0.428929</td>\n",
              "      <td>0.418393</td>\n",
              "      <td>0.419821</td>\n",
              "      <td>0.358457</td>\n",
              "      <td>230781600</td>\n",
              "    </tr>\n",
              "  </tbody>\n",
              "</table>\n",
              "</div>\n",
              "      <button class=\"colab-df-convert\" onclick=\"convertToInteractive('df-00a26579-ee21-4617-82ec-8e152a719d4f')\"\n",
              "              title=\"Convert this dataframe to an interactive table.\"\n",
              "              style=\"display:none;\">\n",
              "        \n",
              "  <svg xmlns=\"http://www.w3.org/2000/svg\" height=\"24px\"viewBox=\"0 0 24 24\"\n",
              "       width=\"24px\">\n",
              "    <path d=\"M0 0h24v24H0V0z\" fill=\"none\"/>\n",
              "    <path d=\"M18.56 5.44l.94 2.06.94-2.06 2.06-.94-2.06-.94-.94-2.06-.94 2.06-2.06.94zm-11 1L8.5 8.5l.94-2.06 2.06-.94-2.06-.94L8.5 2.5l-.94 2.06-2.06.94zm10 10l.94 2.06.94-2.06 2.06-.94-2.06-.94-.94-2.06-.94 2.06-2.06.94z\"/><path d=\"M17.41 7.96l-1.37-1.37c-.4-.4-.92-.59-1.43-.59-.52 0-1.04.2-1.43.59L10.3 9.45l-7.72 7.72c-.78.78-.78 2.05 0 2.83L4 21.41c.39.39.9.59 1.41.59.51 0 1.02-.2 1.41-.59l7.78-7.78 2.81-2.81c.8-.78.8-2.07 0-2.86zM5.41 20L4 18.59l7.72-7.72 1.47 1.35L5.41 20z\"/>\n",
              "  </svg>\n",
              "      </button>\n",
              "      \n",
              "  <style>\n",
              "    .colab-df-container {\n",
              "      display:flex;\n",
              "      flex-wrap:wrap;\n",
              "      gap: 12px;\n",
              "    }\n",
              "\n",
              "    .colab-df-convert {\n",
              "      background-color: #E8F0FE;\n",
              "      border: none;\n",
              "      border-radius: 50%;\n",
              "      cursor: pointer;\n",
              "      display: none;\n",
              "      fill: #1967D2;\n",
              "      height: 32px;\n",
              "      padding: 0 0 0 0;\n",
              "      width: 32px;\n",
              "    }\n",
              "\n",
              "    .colab-df-convert:hover {\n",
              "      background-color: #E2EBFA;\n",
              "      box-shadow: 0px 1px 2px rgba(60, 64, 67, 0.3), 0px 1px 3px 1px rgba(60, 64, 67, 0.15);\n",
              "      fill: #174EA6;\n",
              "    }\n",
              "\n",
              "    [theme=dark] .colab-df-convert {\n",
              "      background-color: #3B4455;\n",
              "      fill: #D2E3FC;\n",
              "    }\n",
              "\n",
              "    [theme=dark] .colab-df-convert:hover {\n",
              "      background-color: #434B5C;\n",
              "      box-shadow: 0px 1px 3px 1px rgba(0, 0, 0, 0.15);\n",
              "      filter: drop-shadow(0px 1px 2px rgba(0, 0, 0, 0.3));\n",
              "      fill: #FFFFFF;\n",
              "    }\n",
              "  </style>\n",
              "\n",
              "      <script>\n",
              "        const buttonEl =\n",
              "          document.querySelector('#df-00a26579-ee21-4617-82ec-8e152a719d4f button.colab-df-convert');\n",
              "        buttonEl.style.display =\n",
              "          google.colab.kernel.accessAllowed ? 'block' : 'none';\n",
              "\n",
              "        async function convertToInteractive(key) {\n",
              "          const element = document.querySelector('#df-00a26579-ee21-4617-82ec-8e152a719d4f');\n",
              "          const dataTable =\n",
              "            await google.colab.kernel.invokeFunction('convertToInteractive',\n",
              "                                                     [key], {});\n",
              "          if (!dataTable) return;\n",
              "\n",
              "          const docLinkHtml = 'Like what you see? Visit the ' +\n",
              "            '<a target=\"_blank\" href=https://colab.research.google.com/notebooks/data_table.ipynb>data table notebook</a>'\n",
              "            + ' to learn more about interactive tables.';\n",
              "          element.innerHTML = '';\n",
              "          dataTable['output_type'] = 'display_data';\n",
              "          await google.colab.output.renderOutput(dataTable, element);\n",
              "          const docLink = document.createElement('div');\n",
              "          docLink.innerHTML = docLinkHtml;\n",
              "          element.appendChild(docLink);\n",
              "        }\n",
              "      </script>\n",
              "    </div>\n",
              "  </div>\n",
              "  "
            ]
          },
          "metadata": {},
          "execution_count": 117
        }
      ],
      "source": [
        "df.head()"
      ]
    },
    {
      "cell_type": "code",
      "execution_count": 118,
      "metadata": {
        "id": "vPqX3myAlxgm"
      },
      "outputs": [],
      "source": [
        "df.reset_index(inplace=True)\n",
        "\n",
        "df=df.drop([\"Adj Close\"],axis=1)\n",
        "\n",
        "df.Date=pd.to_datetime(df.Date)\n"
      ]
    },
    {
      "cell_type": "code",
      "execution_count": 119,
      "metadata": {
        "colab": {
          "base_uri": "https://localhost:8080/"
        },
        "id": "xlAGf1XyYC2V",
        "outputId": "88baf618-b68a-42c8-c9cd-a91198dd3218"
      },
      "outputs": [
        {
          "output_type": "execute_result",
          "data": {
            "text/plain": [
              "Date      datetime64[ns]\n",
              "Open             float64\n",
              "High             float64\n",
              "Low              float64\n",
              "Close            float64\n",
              "Volume             int64\n",
              "dtype: object"
            ]
          },
          "metadata": {},
          "execution_count": 119
        }
      ],
      "source": [
        "df.dtypes"
      ]
    },
    {
      "cell_type": "code",
      "execution_count": 120,
      "metadata": {
        "colab": {
          "base_uri": "https://localhost:8080/",
          "height": 204
        },
        "id": "SKPqNpP9mNeM",
        "outputId": "50e11ab2-7bac-4858-cf92-76684b83c015"
      },
      "outputs": [
        {
          "output_type": "execute_result",
          "data": {
            "text/plain": [
              "        Date      Open      High       Low     Close     Volume\n",
              "0 2002-04-29  0.413571  0.429643  0.412321  0.427857  272288800\n",
              "1 2002-04-30  0.426607  0.435357  0.424107  0.433393  280963200\n",
              "2 2002-05-01  0.433750  0.433750  0.417143  0.428214  214704000\n",
              "3 2002-05-02  0.425179  0.434643  0.421429  0.423036  239344000\n",
              "4 2002-05-03  0.420893  0.428929  0.418393  0.419821  230781600"
            ],
            "text/html": [
              "\n",
              "  <div id=\"df-1480117a-00eb-4769-af91-8d9975ba809e\">\n",
              "    <div class=\"colab-df-container\">\n",
              "      <div>\n",
              "<style scoped>\n",
              "    .dataframe tbody tr th:only-of-type {\n",
              "        vertical-align: middle;\n",
              "    }\n",
              "\n",
              "    .dataframe tbody tr th {\n",
              "        vertical-align: top;\n",
              "    }\n",
              "\n",
              "    .dataframe thead th {\n",
              "        text-align: right;\n",
              "    }\n",
              "</style>\n",
              "<table border=\"1\" class=\"dataframe\">\n",
              "  <thead>\n",
              "    <tr style=\"text-align: right;\">\n",
              "      <th></th>\n",
              "      <th>Date</th>\n",
              "      <th>Open</th>\n",
              "      <th>High</th>\n",
              "      <th>Low</th>\n",
              "      <th>Close</th>\n",
              "      <th>Volume</th>\n",
              "    </tr>\n",
              "  </thead>\n",
              "  <tbody>\n",
              "    <tr>\n",
              "      <th>0</th>\n",
              "      <td>2002-04-29</td>\n",
              "      <td>0.413571</td>\n",
              "      <td>0.429643</td>\n",
              "      <td>0.412321</td>\n",
              "      <td>0.427857</td>\n",
              "      <td>272288800</td>\n",
              "    </tr>\n",
              "    <tr>\n",
              "      <th>1</th>\n",
              "      <td>2002-04-30</td>\n",
              "      <td>0.426607</td>\n",
              "      <td>0.435357</td>\n",
              "      <td>0.424107</td>\n",
              "      <td>0.433393</td>\n",
              "      <td>280963200</td>\n",
              "    </tr>\n",
              "    <tr>\n",
              "      <th>2</th>\n",
              "      <td>2002-05-01</td>\n",
              "      <td>0.433750</td>\n",
              "      <td>0.433750</td>\n",
              "      <td>0.417143</td>\n",
              "      <td>0.428214</td>\n",
              "      <td>214704000</td>\n",
              "    </tr>\n",
              "    <tr>\n",
              "      <th>3</th>\n",
              "      <td>2002-05-02</td>\n",
              "      <td>0.425179</td>\n",
              "      <td>0.434643</td>\n",
              "      <td>0.421429</td>\n",
              "      <td>0.423036</td>\n",
              "      <td>239344000</td>\n",
              "    </tr>\n",
              "    <tr>\n",
              "      <th>4</th>\n",
              "      <td>2002-05-03</td>\n",
              "      <td>0.420893</td>\n",
              "      <td>0.428929</td>\n",
              "      <td>0.418393</td>\n",
              "      <td>0.419821</td>\n",
              "      <td>230781600</td>\n",
              "    </tr>\n",
              "  </tbody>\n",
              "</table>\n",
              "</div>\n",
              "      <button class=\"colab-df-convert\" onclick=\"convertToInteractive('df-1480117a-00eb-4769-af91-8d9975ba809e')\"\n",
              "              title=\"Convert this dataframe to an interactive table.\"\n",
              "              style=\"display:none;\">\n",
              "        \n",
              "  <svg xmlns=\"http://www.w3.org/2000/svg\" height=\"24px\"viewBox=\"0 0 24 24\"\n",
              "       width=\"24px\">\n",
              "    <path d=\"M0 0h24v24H0V0z\" fill=\"none\"/>\n",
              "    <path d=\"M18.56 5.44l.94 2.06.94-2.06 2.06-.94-2.06-.94-.94-2.06-.94 2.06-2.06.94zm-11 1L8.5 8.5l.94-2.06 2.06-.94-2.06-.94L8.5 2.5l-.94 2.06-2.06.94zm10 10l.94 2.06.94-2.06 2.06-.94-2.06-.94-.94-2.06-.94 2.06-2.06.94z\"/><path d=\"M17.41 7.96l-1.37-1.37c-.4-.4-.92-.59-1.43-.59-.52 0-1.04.2-1.43.59L10.3 9.45l-7.72 7.72c-.78.78-.78 2.05 0 2.83L4 21.41c.39.39.9.59 1.41.59.51 0 1.02-.2 1.41-.59l7.78-7.78 2.81-2.81c.8-.78.8-2.07 0-2.86zM5.41 20L4 18.59l7.72-7.72 1.47 1.35L5.41 20z\"/>\n",
              "  </svg>\n",
              "      </button>\n",
              "      \n",
              "  <style>\n",
              "    .colab-df-container {\n",
              "      display:flex;\n",
              "      flex-wrap:wrap;\n",
              "      gap: 12px;\n",
              "    }\n",
              "\n",
              "    .colab-df-convert {\n",
              "      background-color: #E8F0FE;\n",
              "      border: none;\n",
              "      border-radius: 50%;\n",
              "      cursor: pointer;\n",
              "      display: none;\n",
              "      fill: #1967D2;\n",
              "      height: 32px;\n",
              "      padding: 0 0 0 0;\n",
              "      width: 32px;\n",
              "    }\n",
              "\n",
              "    .colab-df-convert:hover {\n",
              "      background-color: #E2EBFA;\n",
              "      box-shadow: 0px 1px 2px rgba(60, 64, 67, 0.3), 0px 1px 3px 1px rgba(60, 64, 67, 0.15);\n",
              "      fill: #174EA6;\n",
              "    }\n",
              "\n",
              "    [theme=dark] .colab-df-convert {\n",
              "      background-color: #3B4455;\n",
              "      fill: #D2E3FC;\n",
              "    }\n",
              "\n",
              "    [theme=dark] .colab-df-convert:hover {\n",
              "      background-color: #434B5C;\n",
              "      box-shadow: 0px 1px 3px 1px rgba(0, 0, 0, 0.15);\n",
              "      filter: drop-shadow(0px 1px 2px rgba(0, 0, 0, 0.3));\n",
              "      fill: #FFFFFF;\n",
              "    }\n",
              "  </style>\n",
              "\n",
              "      <script>\n",
              "        const buttonEl =\n",
              "          document.querySelector('#df-1480117a-00eb-4769-af91-8d9975ba809e button.colab-df-convert');\n",
              "        buttonEl.style.display =\n",
              "          google.colab.kernel.accessAllowed ? 'block' : 'none';\n",
              "\n",
              "        async function convertToInteractive(key) {\n",
              "          const element = document.querySelector('#df-1480117a-00eb-4769-af91-8d9975ba809e');\n",
              "          const dataTable =\n",
              "            await google.colab.kernel.invokeFunction('convertToInteractive',\n",
              "                                                     [key], {});\n",
              "          if (!dataTable) return;\n",
              "\n",
              "          const docLinkHtml = 'Like what you see? Visit the ' +\n",
              "            '<a target=\"_blank\" href=https://colab.research.google.com/notebooks/data_table.ipynb>data table notebook</a>'\n",
              "            + ' to learn more about interactive tables.';\n",
              "          element.innerHTML = '';\n",
              "          dataTable['output_type'] = 'display_data';\n",
              "          await google.colab.output.renderOutput(dataTable, element);\n",
              "          const docLink = document.createElement('div');\n",
              "          docLink.innerHTML = docLinkHtml;\n",
              "          element.appendChild(docLink);\n",
              "        }\n",
              "      </script>\n",
              "    </div>\n",
              "  </div>\n",
              "  "
            ]
          },
          "metadata": {},
          "execution_count": 120
        }
      ],
      "source": [
        "df.head()\n"
      ]
    },
    {
      "cell_type": "code",
      "execution_count": 139,
      "metadata": {
        "colab": {
          "base_uri": "https://localhost:8080/"
        },
        "id": "4b68KwqLQwhc",
        "outputId": "1ab137e7-0552-4478-99a8-f969d9c23242"
      },
      "outputs": [
        {
          "output_type": "execute_result",
          "data": {
            "text/plain": [
              "(5037, 6)"
            ]
          },
          "metadata": {},
          "execution_count": 139
        }
      ],
      "source": [
        "df.shape"
      ]
    },
    {
      "cell_type": "code",
      "source": [
        "df.info()"
      ],
      "metadata": {
        "colab": {
          "base_uri": "https://localhost:8080/"
        },
        "id": "zBO0wrV4-9XH",
        "outputId": "74625f94-9cac-4239-ae5d-db4335eb1d5a"
      },
      "execution_count": 140,
      "outputs": [
        {
          "output_type": "stream",
          "name": "stdout",
          "text": [
            "<class 'pandas.core.frame.DataFrame'>\n",
            "RangeIndex: 5037 entries, 0 to 5036\n",
            "Data columns (total 6 columns):\n",
            " #   Column  Non-Null Count  Dtype         \n",
            "---  ------  --------------  -----         \n",
            " 0   Date    5037 non-null   datetime64[ns]\n",
            " 1   Open    5037 non-null   float64       \n",
            " 2   High    5037 non-null   float64       \n",
            " 3   Low     5037 non-null   float64       \n",
            " 4   Close   5037 non-null   float64       \n",
            " 5   Volume  5037 non-null   int64         \n",
            "dtypes: datetime64[ns](1), float64(4), int64(1)\n",
            "memory usage: 236.2 KB\n"
          ]
        }
      ]
    },
    {
      "cell_type": "code",
      "execution_count": 141,
      "metadata": {
        "id": "KH0l-oB0osd9"
      },
      "outputs": [],
      "source": [
        "ma_100days=df.Close.rolling(window=100).mean()\n",
        "#ilk 100 terim na olcak cünkü : n=0,1,2,3.. için df.Close[n:n+100].mean() \n",
        "#yani 0. terimden 100. terime kadar olanların ortalamasını alıp 99. indekse yazdık\n",
        "#bu şekilde [0:100].mean(),[1:101].mean() ... n=0,1,2,3 n[:n+100] => ma_ndays[n+99]\n",
        "ma_200days=df.Close.rolling(window=200).mean()\n",
        "#200 günlük hareketli ortalama (moving average)"
      ]
    },
    {
      "cell_type": "code",
      "execution_count": 144,
      "metadata": {
        "colab": {
          "base_uri": "https://localhost:8080/",
          "height": 592
        },
        "id": "TwxjvvCWox0D",
        "outputId": "179afe67-2eb6-45df-d0d7-b1ede94c33ba"
      },
      "outputs": [
        {
          "output_type": "display_data",
          "data": {
            "text/plain": [
              "<Figure size 1152x720 with 1 Axes>"
            ],
            "image/png": "[encoded data removed]"
          },
          "metadata": {
            "needs_background": "light"
          }
        }
      ],
      "source": [
        "fig=plt.figure(figsize=(16,10))\n",
        "plt.plot(df.Close,color=\"blue\")\n",
        "plt.plot(ma_100days,color=\"green\",label='Moving Average for 100 Days')\n",
        "plt.plot(ma_200days,color=\"red\",label='Moving Average for 200 Days')\n",
        "plt.legend()\n",
        "plt.show()\n",
        "#sonuca bakarsak göreceğiz ki ilk 0'dan 99. indekse kadar bir boşluk olcak, sonrasında grafikte ma yani (hareketli ortalama)'yı görebileceğiz\n",
        "#bu da 100 günlük ve 200 günlük hareketli ortalama demektir "
      ]
    },
    {
      "cell_type": "code",
      "execution_count": 145,
      "metadata": {
        "id": "Gq2jxZsIo48x"
      },
      "outputs": [],
      "source": [
        "data_training=pd.DataFrame(df.Close[0:int(df.shape[0]*0.7)])\n",
        "data_testing=pd.DataFrame(df.Close[int(df.shape[0]*0.7):int(df.shape[0])])\n",
        "\n",
        "#simdi de training ve testing icin datayı bölelim\n",
        "#fakat bu zaman serisi analizi oldugundan train_test_split methodunu kullanmıcaz !!! "
      ]
    },
    {
      "cell_type": "code",
      "execution_count": 146,
      "metadata": {
        "id": "7amy_kbapBrQ"
      },
      "outputs": [],
      "source": [
        "from sklearn.preprocessing import MinMaxScaler"
      ]
    },
    {
      "cell_type": "code",
      "execution_count": 168,
      "metadata": {
        "id": "0wv6NKQCpEGH"
      },
      "outputs": [],
      "source": [
        "ct=MinMaxScaler(feature_range=(0,1))\n",
        "data_training_scaled=ct.fit_transform(data_training)\n",
        "\n",
        "#normalizasyon ve scaling icin minmaxscaler kullandık. sebebini tam bilmiyorum ama 0 ile 1 arasında scale ediyor\n",
        "#standartscaler z^2 i kullanıyordu yani -3 ile 3 arası "
      ]
    },
    {
      "cell_type": "code",
      "execution_count": 169,
      "metadata": {
        "id": "Mt-IoquWpHtV"
      },
      "outputs": [],
      "source": [
        "X_train,y_train=[],[]\n",
        "\n",
        "for j in range(100,data_training_scaled.shape[0]):\n",
        "\n",
        "    X_train.append(data_training_scaled[j-100:j])\n",
        "    #0-100,1-101,2-102. +...n - n+100. indeksli değerler totalde data_training.shape[0] kadar satıra kaydediliyor\n",
        "    y_train.append(data_training_scaled[j,0])\n",
        "    #j,0 denmesnin sebebi her satırda k'dan k+100 indeksli close değeri oldugundan her satırdaki sadece k. indeksli elemanı alma\n",
        "X_train,y_train=np.array(X_train),np.array(y_train)"
      ]
    },
    {
      "cell_type": "code",
      "source": [
        "past_100days=data_training.tail(100)\n",
        "\n",
        "df_last=past_100days.append(data_testing,ignore_index=True)\n",
        "#bunları yapmamızın sebebi, prediction icin. data_testing'in ilk indexi k olsun, data_training.tail() dediğimizde en başta belirlen(length-5. index)indeks de k-100. indekstir. \n",
        "#rolling ile ilk 100 değeri atladğımız icin past_100days'i de test datasetimize ekliyoruz ."
      ],
      "metadata": {
        "id": "A0DE9T0edgA2"
      },
      "execution_count": 170,
      "outputs": []
    },
    {
      "cell_type": "code",
      "source": [
        "input_data=ct.fit_transform(df_last)\n",
        "\n",
        "X_test,y_test=[],[]\n",
        "\n",
        "for k in range(100,input_data.shape[0]):\n",
        "\n",
        "    X_test.append(input_data[k-100:k])\n",
        "    y_test.append(input_data[k,0])\n",
        "\n",
        "X_test,y_test=np.array(X_test),np.array(y_test)"
      ],
      "metadata": {
        "id": "AtzZgOA9dgen"
      },
      "execution_count": 171,
      "outputs": []
    },
    {
      "cell_type": "code",
      "execution_count": 62,
      "metadata": {
        "id": "vCpX1FyJpWUv"
      },
      "outputs": [],
      "source": [
        "from keras.layers import Dense, Dropout, LSTM\n",
        "from keras.models import Sequential\n",
        "#Model kısmına geciyoz (ml model)"
      ]
    },
    {
      "cell_type": "code",
      "execution_count": null,
      "metadata": {
        "id": "gL0Odj5WpMVq"
      },
      "outputs": [],
      "source": [
        "model=Sequential()\n",
        "\n",
        "model.add(LSTM(units=50,activation=\"tanh\",return_sequences=True,input_shape=(X_train.shape[1],1)))\n",
        "model.add(Dropout(0.2))\n",
        "#bura shape'te 1 dememizin sebebi range'i yüzden baslatınca her satırda aslında 0-100,100-200. elemanlar allocate edildi bu sebeple input_shape 100 olmalıydı\n",
        "model.add(LSTM(units=60,activation=\"tanh\",return_sequences=True))\n",
        "model.add(Dropout(0.3))\n",
        "#The Dropout layer randomly sets input units to 0 with a frequency of rate at each step during training time, which helps prevent overfitting. Inputs not set to 0 are scaled up by 1/(1 - rate) such that the sum over all inputs is unchanged.\n",
        "\n",
        "model.add(LSTM(units=80,activation=\"tanh\",return_sequences=True))\n",
        "model.add(Dropout(0.4))\n",
        "\n",
        "model.add(LSTM(units=120,activation=\"tanh\"))\n",
        "model.add(Dropout(0.5))\n",
        "\n",
        "model.add(Dense(units=1)) \n",
        "#1 parametre tahmini yapmak istediğimiz icin 1 dedik (closing price o parametre ), bütün layerları bir araya getiriyor (4)\n",
        "\n",
        "\n",
        "#https://www.koreascience.or.kr/article/JAKO202025356104177.pdf"
      ]
    },
    {
      "cell_type": "code",
      "execution_count": null,
      "metadata": {
        "colab": {
          "base_uri": "https://localhost:8080/"
        },
        "id": "LHbyBQa0pexd",
        "outputId": "e3b3b1fb-dfa6-4fb0-f097-2fb1cfb9ad3c"
      },
      "outputs": [
        {
          "output_type": "stream",
          "name": "stdout",
          "text": [
            "Model: \"sequential_4\"\n",
            "_________________________________________________________________\n",
            " Layer (type)                Output Shape              Param #   \n",
            "=================================================================\n",
            " lstm_16 (LSTM)              (None, 100, 50)           10400     \n",
            "                                                                 \n",
            " dropout_16 (Dropout)        (None, 100, 50)           0         \n",
            "                                                                 \n",
            " lstm_17 (LSTM)              (None, 100, 60)           26640     \n",
            "                                                                 \n",
            " dropout_17 (Dropout)        (None, 100, 60)           0         \n",
            "                                                                 \n",
            " lstm_18 (LSTM)              (None, 100, 80)           45120     \n",
            "                                                                 \n",
            " dropout_18 (Dropout)        (None, 100, 80)           0         \n",
            "                                                                 \n",
            " lstm_19 (LSTM)              (None, 120)               96480     \n",
            "                                                                 \n",
            " dropout_19 (Dropout)        (None, 120)               0         \n",
            "                                                                 \n",
            " dense_4 (Dense)             (None, 1)                 121       \n",
            "                                                                 \n",
            "=================================================================\n",
            "Total params: 178,761\n",
            "Trainable params: 178,761\n",
            "Non-trainable params: 0\n",
            "_________________________________________________________________\n"
          ]
        }
      ],
      "source": [
        "model.summary()"
      ]
    },
    {
      "cell_type": "code",
      "source": [
        "X_train.shape"
      ],
      "metadata": {
        "colab": {
          "base_uri": "https://localhost:8080/"
        },
        "id": "MOGfY3JcxlzJ",
        "outputId": "09529f27-cc8c-4522-fbec-6aa26315b673"
      },
      "execution_count": 63,
      "outputs": [
        {
          "output_type": "execute_result",
          "data": {
            "text/plain": [
              "(3425, 100, 1)"
            ]
          },
          "metadata": {},
          "execution_count": 63
        }
      ]
    },
    {
      "cell_type": "code",
      "source": [
        "X_train.shape"
      ],
      "metadata": {
        "colab": {
          "base_uri": "https://localhost:8080/"
        },
        "id": "-XXm4H9k0aSe",
        "outputId": "f9d17b9b-24a7-4c7a-eb81-a79f275958a0"
      },
      "execution_count": 64,
      "outputs": [
        {
          "output_type": "execute_result",
          "data": {
            "text/plain": [
              "(3425, 100, 1)"
            ]
          },
          "metadata": {},
          "execution_count": 64
        }
      ]
    },
    {
      "cell_type": "code",
      "execution_count": null,
      "metadata": {
        "colab": {
          "base_uri": "https://localhost:8080/"
        },
        "id": "pDz4jXJKpU-k",
        "outputId": "d57d3f40-bda0-48b7-8e73-065f86aba1e4"
      },
      "outputs": [
        {
          "output_type": "stream",
          "name": "stdout",
          "text": [
            "Epoch 1/10\n",
            "108/108 [==============================] - 60s 365ms/step - loss: 0.0094 - mean_absolute_error: 0.0556 - val_loss: 0.0010 - val_mean_absolute_error: 0.0212\n",
            "Epoch 2/10\n",
            "108/108 [==============================] - 38s 348ms/step - loss: 0.0036 - mean_absolute_error: 0.0369 - val_loss: 0.0132 - val_mean_absolute_error: 0.0878\n",
            "Epoch 3/10\n",
            "108/108 [==============================] - 38s 351ms/step - loss: 0.0035 - mean_absolute_error: 0.0372 - val_loss: 0.0013 - val_mean_absolute_error: 0.0230\n",
            "Epoch 4/10\n",
            "108/108 [==============================] - 39s 357ms/step - loss: 0.0030 - mean_absolute_error: 0.0343 - val_loss: 0.0013 - val_mean_absolute_error: 0.0245\n",
            "Epoch 5/10\n",
            "108/108 [==============================] - 38s 348ms/step - loss: 0.0027 - mean_absolute_error: 0.0338 - val_loss: 0.0034 - val_mean_absolute_error: 0.0415\n",
            "Epoch 6/10\n",
            "108/108 [==============================] - 37s 344ms/step - loss: 0.0026 - mean_absolute_error: 0.0328 - val_loss: 0.0081 - val_mean_absolute_error: 0.0614\n",
            "Epoch 7/10\n",
            "108/108 [==============================] - 43s 401ms/step - loss: 0.0043 - mean_absolute_error: 0.0430 - val_loss: 8.0100e-04 - val_mean_absolute_error: 0.0187\n",
            "Epoch 8/10\n",
            "108/108 [==============================] - 37s 343ms/step - loss: 0.0020 - mean_absolute_error: 0.0298 - val_loss: 8.1584e-04 - val_mean_absolute_error: 0.0209\n",
            "Epoch 9/10\n",
            "108/108 [==============================] - 37s 341ms/step - loss: 0.0022 - mean_absolute_error: 0.0313 - val_loss: 0.0021 - val_mean_absolute_error: 0.0307\n",
            "Epoch 10/10\n",
            "108/108 [==============================] - 38s 350ms/step - loss: 0.0019 - mean_absolute_error: 0.0292 - val_loss: 6.8932e-04 - val_mean_absolute_error: 0.0174\n"
          ]
        }
      ],
      "source": [
        "model.compile(optimizer=\"adam\",loss=\"mean_squared_error\",metrics=['mean_absolute_error','accuracy'])\n",
        "\n",
        "history=model.fit(X_train,y_train,epochs=100,validation_data=(X_test,y_test))\n",
        "\n",
        "model.save(\"keras_model.h5\")\n",
        "\n",
        "#drive'da yeni save edileni yüklemeyi unutma \n",
        "#tekrar calıstır knk "
      ]
    },
    {
      "cell_type": "code",
      "source": [
        "from google.colab import drive\n",
        "drive.mount('/content/gdrive')"
      ],
      "metadata": {
        "colab": {
          "base_uri": "https://localhost:8080/"
        },
        "id": "dixI3kv4XeNl",
        "outputId": "39a50e25-5d04-4ea9-c3c9-247968c1edb0"
      },
      "execution_count": null,
      "outputs": [
        {
          "output_type": "stream",
          "name": "stdout",
          "text": [
            "Mounted at /content/gdrive\n"
          ]
        }
      ]
    },
    {
      "cell_type": "code",
      "source": [
        "from keras.models import load_model\n",
        "\n",
        "model=load_model(\"keras_model.h5\")"
      ],
      "metadata": {
        "id": "ViiIXNSdPNvk"
      },
      "execution_count": 151,
      "outputs": []
    },
    {
      "cell_type": "code",
      "source": [
        "y_test=ct.inverse_transform(y_test.reshape(-1,1))"
      ],
      "metadata": {
        "id": "twP0tUAY_w7J"
      },
      "execution_count": 173,
      "outputs": []
    },
    {
      "cell_type": "code",
      "execution_count": 172,
      "metadata": {
        "id": "frjk7H0K9bGI",
        "colab": {
          "base_uri": "https://localhost:8080/"
        },
        "outputId": "8edf3c63-b4da-4d64-e293-fe0fd01fd320"
      },
      "outputs": [
        {
          "output_type": "stream",
          "name": "stdout",
          "text": [
            "48/48 [==============================] - 5s 79ms/step\n"
          ]
        }
      ],
      "source": [
        "yhat=model.predict(X_test)"
      ]
    },
    {
      "cell_type": "code",
      "source": [
        "yhat=ct.inverse_transform(yhat.reshape(-1,1))"
      ],
      "metadata": {
        "id": "S7yBLv7U_9iO"
      },
      "execution_count": 174,
      "outputs": []
    },
    {
      "cell_type": "code",
      "source": [
        "y_test"
      ],
      "metadata": {
        "colab": {
          "base_uri": "https://localhost:8080/"
        },
        "id": "xaWhBR7qAxY5",
        "outputId": "8b6c89dd-f32b-4f5a-b7f0-013fc8a6d4de"
      },
      "execution_count": 179,
      "outputs": [
        {
          "output_type": "execute_result",
          "data": {
            "text/plain": [
              "array([[ 23.70750046],\n",
              "       [ 23.43499947],\n",
              "       [ 23.40999985],\n",
              "       ...,\n",
              "       [156.80000305],\n",
              "       [156.57000732],\n",
              "       [163.63999939]])"
            ]
          },
          "metadata": {},
          "execution_count": 179
        }
      ]
    },
    {
      "cell_type": "code",
      "source": [
        "yhat"
      ],
      "metadata": {
        "colab": {
          "base_uri": "https://localhost:8080/"
        },
        "id": "hVPj4a_QCmtl",
        "outputId": "13e230ad-97ff-410c-8885-5d63d2a08a43"
      },
      "execution_count": 224,
      "outputs": [
        {
          "output_type": "execute_result",
          "data": {
            "text/plain": [
              "array([[ 28.992966],\n",
              "       [ 28.51656 ],\n",
              "       [ 27.95884 ],\n",
              "       ...,\n",
              "       [157.3139  ],\n",
              "       [156.0268  ],\n",
              "       [154.4556  ]], dtype=float32)"
            ]
          },
          "metadata": {},
          "execution_count": 224
        }
      ]
    },
    {
      "cell_type": "code",
      "source": [
        "df.query('Close<23.71 & Close>23.70')\n",
        "#Date i nerden nereye almış onu öğrenmek için "
      ],
      "metadata": {
        "colab": {
          "base_uri": "https://localhost:8080/",
          "height": 111
        },
        "id": "-soYod-qBFB7",
        "outputId": "ce91bc7d-3d7c-4c85-fd62-34a64d0d2366"
      },
      "execution_count": 223,
      "outputs": [
        {
          "output_type": "execute_result",
          "data": {
            "text/plain": [
              "           Date       Open       High        Low      Close     Volume\n",
              "2606 2012-08-30  23.951429  23.983929  23.673214  23.709642  302699600\n",
              "3525 2016-04-28  24.402500  24.469999  23.562500  23.707500  328970800"
            ],
            "text/html": [
              "\n",
              "  <div id=\"df-7bf0634e-d15b-46d4-98e5-09cc2e9ab093\">\n",
              "    <div class=\"colab-df-container\">\n",
              "      <div>\n",
              "<style scoped>\n",
              "    .dataframe tbody tr th:only-of-type {\n",
              "        vertical-align: middle;\n",
              "    }\n",
              "\n",
              "    .dataframe tbody tr th {\n",
              "        vertical-align: top;\n",
              "    }\n",
              "\n",
              "    .dataframe thead th {\n",
              "        text-align: right;\n",
              "    }\n",
              "</style>\n",
              "<table border=\"1\" class=\"dataframe\">\n",
              "  <thead>\n",
              "    <tr style=\"text-align: right;\">\n",
              "      <th></th>\n",
              "      <th>Date</th>\n",
              "      <th>Open</th>\n",
              "      <th>High</th>\n",
              "      <th>Low</th>\n",
              "      <th>Close</th>\n",
              "      <th>Volume</th>\n",
              "    </tr>\n",
              "  </thead>\n",
              "  <tbody>\n",
              "    <tr>\n",
              "      <th>2606</th>\n",
              "      <td>2012-08-30</td>\n",
              "      <td>23.951429</td>\n",
              "      <td>23.983929</td>\n",
              "      <td>23.673214</td>\n",
              "      <td>23.709642</td>\n",
              "      <td>302699600</td>\n",
              "    </tr>\n",
              "    <tr>\n",
              "      <th>3525</th>\n",
              "      <td>2016-04-28</td>\n",
              "      <td>24.402500</td>\n",
              "      <td>24.469999</td>\n",
              "      <td>23.562500</td>\n",
              "      <td>23.707500</td>\n",
              "      <td>328970800</td>\n",
              "    </tr>\n",
              "  </tbody>\n",
              "</table>\n",
              "</div>\n",
              "      <button class=\"colab-df-convert\" onclick=\"convertToInteractive('df-7bf0634e-d15b-46d4-98e5-09cc2e9ab093')\"\n",
              "              title=\"Convert this dataframe to an interactive table.\"\n",
              "              style=\"display:none;\">\n",
              "        \n",
              "  <svg xmlns=\"http://www.w3.org/2000/svg\" height=\"24px\"viewBox=\"0 0 24 24\"\n",
              "       width=\"24px\">\n",
              "    <path d=\"M0 0h24v24H0V0z\" fill=\"none\"/>\n",
              "    <path d=\"M18.56 5.44l.94 2.06.94-2.06 2.06-.94-2.06-.94-.94-2.06-.94 2.06-2.06.94zm-11 1L8.5 8.5l.94-2.06 2.06-.94-2.06-.94L8.5 2.5l-.94 2.06-2.06.94zm10 10l.94 2.06.94-2.06 2.06-.94-2.06-.94-.94-2.06-.94 2.06-2.06.94z\"/><path d=\"M17.41 7.96l-1.37-1.37c-.4-.4-.92-.59-1.43-.59-.52 0-1.04.2-1.43.59L10.3 9.45l-7.72 7.72c-.78.78-.78 2.05 0 2.83L4 21.41c.39.39.9.59 1.41.59.51 0 1.02-.2 1.41-.59l7.78-7.78 2.81-2.81c.8-.78.8-2.07 0-2.86zM5.41 20L4 18.59l7.72-7.72 1.47 1.35L5.41 20z\"/>\n",
              "  </svg>\n",
              "      </button>\n",
              "      \n",
              "  <style>\n",
              "    .colab-df-container {\n",
              "      display:flex;\n",
              "      flex-wrap:wrap;\n",
              "      gap: 12px;\n",
              "    }\n",
              "\n",
              "    .colab-df-convert {\n",
              "      background-color: #E8F0FE;\n",
              "      border: none;\n",
              "      border-radius: 50%;\n",
              "      cursor: pointer;\n",
              "      display: none;\n",
              "      fill: #1967D2;\n",
              "      height: 32px;\n",
              "      padding: 0 0 0 0;\n",
              "      width: 32px;\n",
              "    }\n",
              "\n",
              "    .colab-df-convert:hover {\n",
              "      background-color: #E2EBFA;\n",
              "      box-shadow: 0px 1px 2px rgba(60, 64, 67, 0.3), 0px 1px 3px 1px rgba(60, 64, 67, 0.15);\n",
              "      fill: #174EA6;\n",
              "    }\n",
              "\n",
              "    [theme=dark] .colab-df-convert {\n",
              "      background-color: #3B4455;\n",
              "      fill: #D2E3FC;\n",
              "    }\n",
              "\n",
              "    [theme=dark] .colab-df-convert:hover {\n",
              "      background-color: #434B5C;\n",
              "      box-shadow: 0px 1px 3px 1px rgba(0, 0, 0, 0.15);\n",
              "      filter: drop-shadow(0px 1px 2px rgba(0, 0, 0, 0.3));\n",
              "      fill: #FFFFFF;\n",
              "    }\n",
              "  </style>\n",
              "\n",
              "      <script>\n",
              "        const buttonEl =\n",
              "          document.querySelector('#df-7bf0634e-d15b-46d4-98e5-09cc2e9ab093 button.colab-df-convert');\n",
              "        buttonEl.style.display =\n",
              "          google.colab.kernel.accessAllowed ? 'block' : 'none';\n",
              "\n",
              "        async function convertToInteractive(key) {\n",
              "          const element = document.querySelector('#df-7bf0634e-d15b-46d4-98e5-09cc2e9ab093');\n",
              "          const dataTable =\n",
              "            await google.colab.kernel.invokeFunction('convertToInteractive',\n",
              "                                                     [key], {});\n",
              "          if (!dataTable) return;\n",
              "\n",
              "          const docLinkHtml = 'Like what you see? Visit the ' +\n",
              "            '<a target=\"_blank\" href=https://colab.research.google.com/notebooks/data_table.ipynb>data table notebook</a>'\n",
              "            + ' to learn more about interactive tables.';\n",
              "          element.innerHTML = '';\n",
              "          dataTable['output_type'] = 'display_data';\n",
              "          await google.colab.output.renderOutput(dataTable, element);\n",
              "          const docLink = document.createElement('div');\n",
              "          docLink.innerHTML = docLinkHtml;\n",
              "          element.appendChild(docLink);\n",
              "        }\n",
              "      </script>\n",
              "    </div>\n",
              "  </div>\n",
              "  "
            ]
          },
          "metadata": {},
          "execution_count": 223
        }
      ]
    },
    {
      "cell_type": "code",
      "source": [
        "dates=df.iloc[3525:df.shape[0]].Date.apply(lambda x : str(x).replace('-','/')[:11]).to_numpy()"
      ],
      "metadata": {
        "id": "18O5B1frCUT-"
      },
      "execution_count": 299,
      "outputs": []
    },
    {
      "cell_type": "code",
      "source": [
        "dates[:5],dates[len(dates)-5:len(dates)]"
      ],
      "metadata": {
        "colab": {
          "base_uri": "https://localhost:8080/"
        },
        "id": "t95f2ufiDRYX",
        "outputId": "10df7a5b-912b-4dbd-d803-14dbc7ba6cfb"
      },
      "execution_count": 300,
      "outputs": [
        {
          "output_type": "execute_result",
          "data": {
            "text/plain": [
              "(array(['2016/04/28 ', '2016/04/29 ', '2016/05/02 ', '2016/05/03 ',\n",
              "        '2016/05/04 '], dtype=object),\n",
              " array(['2022/04/22 ', '2022/04/25 ', '2022/04/26 ', '2022/04/27 ',\n",
              "        '2022/04/28 '], dtype=object))"
            ]
          },
          "metadata": {},
          "execution_count": 300
        }
      ]
    },
    {
      "cell_type": "code",
      "source": [
        "y_test.shape,dates.shape"
      ],
      "metadata": {
        "colab": {
          "base_uri": "https://localhost:8080/"
        },
        "id": "TMOfXAKyHc1a",
        "outputId": "c080aa2a-0b45-496e-9534-f6d2c459aee8"
      },
      "execution_count": 308,
      "outputs": [
        {
          "output_type": "execute_result",
          "data": {
            "text/plain": [
              "((1512, 1), (1512,))"
            ]
          },
          "metadata": {},
          "execution_count": 308
        }
      ]
    },
    {
      "cell_type": "code",
      "source": [
        "ma_100days=pd.DataFrame(y_test).rolling(window=100).mean()\n",
        "ma_200days=pd.DataFrame(y_test).rolling(window=200).mean()"
      ],
      "metadata": {
        "id": "SNtWAhwW8K3D"
      },
      "execution_count": 225,
      "outputs": []
    },
    {
      "cell_type": "code",
      "execution_count": 319,
      "metadata": {
        "colab": {
          "base_uri": "https://localhost:8080/",
          "height": 638
        },
        "id": "14gTsARR9bNa",
        "outputId": "e4d65167-b1d2-4200-e4d7-101ecdc8ddae"
      },
      "outputs": [
        {
          "output_type": "execute_result",
          "data": {
            "text/plain": [
              "<matplotlib.legend.Legend at 0x7f091ad762d0>"
            ]
          },
          "metadata": {},
          "execution_count": 319
        },
        {
          "output_type": "display_data",
          "data": {
            "text/plain": [
              "<Figure size 1152x720 with 1 Axes>"
            ],
            "image/png": "[encoded data removed]"
          },
          "metadata": {
            "needs_background": "light"
          }
        }
      ],
      "source": [
        "fig=plt.figure(figsize=(16,10))\n",
        "plt.plot(y_test,color=\"blue\",label=\"Actual Price\")\n",
        "plt.plot(yhat,color=\"red\",label=\"Predicted Price\")\n",
        "plt.plot(ma_100days,label='Moving Average for 100 Days')\n",
        "plt.plot(ma_200days,label='Moving Average for 200 Days')\n",
        "plt.xlabel(\"Date\")\n",
        "plt.xticks([0,756,1511],[dates[0],dates[756],dates[1511]])\n",
        "plt.ylabel(\"Price\")\n",
        "plt.title('Prediction vs Actual Plot')\n",
        "plt.legend()"
      ]
    },
    {
      "cell_type": "code",
      "source": [],
      "metadata": {
        "id": "OTw4j5TSFyED"
      },
      "execution_count": null,
      "outputs": []
    }
  ],
  "metadata": {
    "colab": {
      "collapsed_sections": [],
      "provenance": [],
      "mount_file_id": "1DwjDPwrOBmsahQI6eA1eD-noZcFG2qan",
      "authorship_tag": "ABX9TyMy3p8IMvDC+7XyIdnLdZaJ",
      "include_colab_link": true
    },
    "kernelspec": {
      "display_name": "Python 3",
      "name": "python3"
    },
    "language_info": {
      "name": "python"
    }
  },
  "nbformat": 4,
  "nbformat_minor": 0
}