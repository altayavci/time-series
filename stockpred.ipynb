{
  "cells": [
    {
      "cell_type": "markdown",
      "metadata": {
        "id": "view-in-github",
        "colab_type": "text"
      },
      "source": [
        "<a href=\"https://colab.research.google.com/github/altayavci/time-series/blob/main/stockpred.ipynb\" target=\"_parent\"><img src=\"https://colab.research.google.com/assets/colab-badge.svg\" alt=\"Open In Colab\"/></a>"
      ]
    },
    {
      "cell_type": "code",
      "source": [
        "import numpy as np \n",
        "import pandas as pd \n",
        "import matplotlib.pyplot as plt \n",
        "from pandas_datareader import data as pdr\n",
        "import yfinance as yfin\n",
        "yfin.pdr_override()"
      ],
      "metadata": {
        "id": "FkrKtyaEXIhj"
      },
      "execution_count": null,
      "outputs": []
    },
    {
      "cell_type": "code",
      "execution_count": null,
      "metadata": {
        "id": "rt8DfhM-lZo7"
      },
      "outputs": [],
      "source": [
        "start_date=\"2002-04-29\"\n",
        "end_date=\"2022-04-29\""
      ]
    },
    {
      "cell_type": "code",
      "execution_count": null,
      "metadata": {
        "colab": {
          "base_uri": "https://localhost:8080/"
        },
        "id": "toWydJmolwR5",
        "outputId": "2b622941-7d33-450d-ec88-c82710d2e216"
      },
      "outputs": [
        {
          "output_type": "stream",
          "name": "stdout",
          "text": [
            "\r[*********************100%***********************]  1 of 1 completed\n"
          ]
        }
      ],
      "source": [
        "df = pdr.get_data_yahoo(\"TSLA\",start_date,end_date)\n",
        "#data_reader  yfinance api'sini kullanıyor arkada"
      ]
    },
    {
      "cell_type": "code",
      "execution_count": null,
      "metadata": {
        "colab": {
          "base_uri": "https://localhost:8080/",
          "height": 235
        },
        "id": "0P8ySO4obWPm",
        "outputId": "8847fa87-ebfe-402f-8113-b81491d62207"
      },
      "outputs": [
        {
          "output_type": "execute_result",
          "data": {
            "text/plain": [
              "                Open      High       Low     Close  Adj Close     Volume\n",
              "Date                                                                    \n",
              "2010-06-29  1.266667  1.666667  1.169333  1.592667   1.592667  281494500\n",
              "2010-06-30  1.719333  2.028000  1.553333  1.588667   1.588667  257806500\n",
              "2010-07-01  1.666667  1.728000  1.351333  1.464000   1.464000  123282000\n",
              "2010-07-02  1.533333  1.540000  1.247333  1.280000   1.280000   77097000\n",
              "2010-07-06  1.333333  1.333333  1.055333  1.074000   1.074000  103003500"
            ],
            "text/html": [
              "\n",
              "  <div id=\"df-051497ac-6bde-4755-bc78-9072a5e056f2\">\n",
              "    <div class=\"colab-df-container\">\n",
              "      <div>\n",
              "<style scoped>\n",
              "    .dataframe tbody tr th:only-of-type {\n",
              "        vertical-align: middle;\n",
              "    }\n",
              "\n",
              "    .dataframe tbody tr th {\n",
              "        vertical-align: top;\n",
              "    }\n",
              "\n",
              "    .dataframe thead th {\n",
              "        text-align: right;\n",
              "    }\n",
              "</style>\n",
              "<table border=\"1\" class=\"dataframe\">\n",
              "  <thead>\n",
              "    <tr style=\"text-align: right;\">\n",
              "      <th></th>\n",
              "      <th>Open</th>\n",
              "      <th>High</th>\n",
              "      <th>Low</th>\n",
              "      <th>Close</th>\n",
              "      <th>Adj Close</th>\n",
              "      <th>Volume</th>\n",
              "    </tr>\n",
              "    <tr>\n",
              "      <th>Date</th>\n",
              "      <th></th>\n",
              "      <th></th>\n",
              "      <th></th>\n",
              "      <th></th>\n",
              "      <th></th>\n",
              "      <th></th>\n",
              "    </tr>\n",
              "  </thead>\n",
              "  <tbody>\n",
              "    <tr>\n",
              "      <th>2010-06-29</th>\n",
              "      <td>1.266667</td>\n",
              "      <td>1.666667</td>\n",
              "      <td>1.169333</td>\n",
              "      <td>1.592667</td>\n",
              "      <td>1.592667</td>\n",
              "      <td>281494500</td>\n",
              "    </tr>\n",
              "    <tr>\n",
              "      <th>2010-06-30</th>\n",
              "      <td>1.719333</td>\n",
              "      <td>2.028000</td>\n",
              "      <td>1.553333</td>\n",
              "      <td>1.588667</td>\n",
              "      <td>1.588667</td>\n",
              "      <td>257806500</td>\n",
              "    </tr>\n",
              "    <tr>\n",
              "      <th>2010-07-01</th>\n",
              "      <td>1.666667</td>\n",
              "      <td>1.728000</td>\n",
              "      <td>1.351333</td>\n",
              "      <td>1.464000</td>\n",
              "      <td>1.464000</td>\n",
              "      <td>123282000</td>\n",
              "    </tr>\n",
              "    <tr>\n",
              "      <th>2010-07-02</th>\n",
              "      <td>1.533333</td>\n",
              "      <td>1.540000</td>\n",
              "      <td>1.247333</td>\n",
              "      <td>1.280000</td>\n",
              "      <td>1.280000</td>\n",
              "      <td>77097000</td>\n",
              "    </tr>\n",
              "    <tr>\n",
              "      <th>2010-07-06</th>\n",
              "      <td>1.333333</td>\n",
              "      <td>1.333333</td>\n",
              "      <td>1.055333</td>\n",
              "      <td>1.074000</td>\n",
              "      <td>1.074000</td>\n",
              "      <td>103003500</td>\n",
              "    </tr>\n",
              "  </tbody>\n",
              "</table>\n",
              "</div>\n",
              "      <button class=\"colab-df-convert\" onclick=\"convertToInteractive('df-051497ac-6bde-4755-bc78-9072a5e056f2')\"\n",
              "              title=\"Convert this dataframe to an interactive table.\"\n",
              "              style=\"display:none;\">\n",
              "        \n",
              "  <svg xmlns=\"http://www.w3.org/2000/svg\" height=\"24px\"viewBox=\"0 0 24 24\"\n",
              "       width=\"24px\">\n",
              "    <path d=\"M0 0h24v24H0V0z\" fill=\"none\"/>\n",
              "    <path d=\"M18.56 5.44l.94 2.06.94-2.06 2.06-.94-2.06-.94-.94-2.06-.94 2.06-2.06.94zm-11 1L8.5 8.5l.94-2.06 2.06-.94-2.06-.94L8.5 2.5l-.94 2.06-2.06.94zm10 10l.94 2.06.94-2.06 2.06-.94-2.06-.94-.94-2.06-.94 2.06-2.06.94z\"/><path d=\"M17.41 7.96l-1.37-1.37c-.4-.4-.92-.59-1.43-.59-.52 0-1.04.2-1.43.59L10.3 9.45l-7.72 7.72c-.78.78-.78 2.05 0 2.83L4 21.41c.39.39.9.59 1.41.59.51 0 1.02-.2 1.41-.59l7.78-7.78 2.81-2.81c.8-.78.8-2.07 0-2.86zM5.41 20L4 18.59l7.72-7.72 1.47 1.35L5.41 20z\"/>\n",
              "  </svg>\n",
              "      </button>\n",
              "      \n",
              "  <style>\n",
              "    .colab-df-container {\n",
              "      display:flex;\n",
              "      flex-wrap:wrap;\n",
              "      gap: 12px;\n",
              "    }\n",
              "\n",
              "    .colab-df-convert {\n",
              "      background-color: #E8F0FE;\n",
              "      border: none;\n",
              "      border-radius: 50%;\n",
              "      cursor: pointer;\n",
              "      display: none;\n",
              "      fill: #1967D2;\n",
              "      height: 32px;\n",
              "      padding: 0 0 0 0;\n",
              "      width: 32px;\n",
              "    }\n",
              "\n",
              "    .colab-df-convert:hover {\n",
              "      background-color: #E2EBFA;\n",
              "      box-shadow: 0px 1px 2px rgba(60, 64, 67, 0.3), 0px 1px 3px 1px rgba(60, 64, 67, 0.15);\n",
              "      fill: #174EA6;\n",
              "    }\n",
              "\n",
              "    [theme=dark] .colab-df-convert {\n",
              "      background-color: #3B4455;\n",
              "      fill: #D2E3FC;\n",
              "    }\n",
              "\n",
              "    [theme=dark] .colab-df-convert:hover {\n",
              "      background-color: #434B5C;\n",
              "      box-shadow: 0px 1px 3px 1px rgba(0, 0, 0, 0.15);\n",
              "      filter: drop-shadow(0px 1px 2px rgba(0, 0, 0, 0.3));\n",
              "      fill: #FFFFFF;\n",
              "    }\n",
              "  </style>\n",
              "\n",
              "      <script>\n",
              "        const buttonEl =\n",
              "          document.querySelector('#df-051497ac-6bde-4755-bc78-9072a5e056f2 button.colab-df-convert');\n",
              "        buttonEl.style.display =\n",
              "          google.colab.kernel.accessAllowed ? 'block' : 'none';\n",
              "\n",
              "        async function convertToInteractive(key) {\n",
              "          const element = document.querySelector('#df-051497ac-6bde-4755-bc78-9072a5e056f2');\n",
              "          const dataTable =\n",
              "            await google.colab.kernel.invokeFunction('convertToInteractive',\n",
              "                                                     [key], {});\n",
              "          if (!dataTable) return;\n",
              "\n",
              "          const docLinkHtml = 'Like what you see? Visit the ' +\n",
              "            '<a target=\"_blank\" href=https://colab.research.google.com/notebooks/data_table.ipynb>data table notebook</a>'\n",
              "            + ' to learn more about interactive tables.';\n",
              "          element.innerHTML = '';\n",
              "          dataTable['output_type'] = 'display_data';\n",
              "          await google.colab.output.renderOutput(dataTable, element);\n",
              "          const docLink = document.createElement('div');\n",
              "          docLink.innerHTML = docLinkHtml;\n",
              "          element.appendChild(docLink);\n",
              "        }\n",
              "      </script>\n",
              "    </div>\n",
              "  </div>\n",
              "  "
            ]
          },
          "metadata": {},
          "execution_count": 83
        }
      ],
      "source": [
        "df.head()"
      ]
    },
    {
      "cell_type": "code",
      "execution_count": null,
      "metadata": {
        "id": "vPqX3myAlxgm"
      },
      "outputs": [],
      "source": [
        "df.reset_index(inplace=True)\n",
        "\n",
        "df=df.drop([\"Adj Close\"],axis=1)\n",
        "\n",
        "df.Date=pd.to_datetime(df.Date)\n"
      ]
    },
    {
      "cell_type": "code",
      "execution_count": null,
      "metadata": {
        "colab": {
          "base_uri": "https://localhost:8080/"
        },
        "id": "xlAGf1XyYC2V",
        "outputId": "000abaee-c572-4526-8536-4ff283192fcf"
      },
      "outputs": [
        {
          "output_type": "execute_result",
          "data": {
            "text/plain": [
              "Date      datetime64[ns]\n",
              "Open             float64\n",
              "High             float64\n",
              "Low              float64\n",
              "Close            float64\n",
              "Volume             int64\n",
              "dtype: object"
            ]
          },
          "metadata": {},
          "execution_count": 85
        }
      ],
      "source": [
        "df.dtypes"
      ]
    },
    {
      "cell_type": "code",
      "execution_count": null,
      "metadata": {
        "colab": {
          "base_uri": "https://localhost:8080/",
          "height": 204
        },
        "id": "SKPqNpP9mNeM",
        "outputId": "101128c3-3276-47f0-c92d-e6d67a3ce77a"
      },
      "outputs": [
        {
          "output_type": "execute_result",
          "data": {
            "text/plain": [
              "        Date      Open      High       Low     Close     Volume\n",
              "0 2010-06-29  1.266667  1.666667  1.169333  1.592667  281494500\n",
              "1 2010-06-30  1.719333  2.028000  1.553333  1.588667  257806500\n",
              "2 2010-07-01  1.666667  1.728000  1.351333  1.464000  123282000\n",
              "3 2010-07-02  1.533333  1.540000  1.247333  1.280000   77097000\n",
              "4 2010-07-06  1.333333  1.333333  1.055333  1.074000  103003500"
            ],
            "text/html": [
              "\n",
              "  <div id=\"df-5ab47ffe-fdaa-486c-a9fb-ddbf406d65dc\">\n",
              "    <div class=\"colab-df-container\">\n",
              "      <div>\n",
              "<style scoped>\n",
              "    .dataframe tbody tr th:only-of-type {\n",
              "        vertical-align: middle;\n",
              "    }\n",
              "\n",
              "    .dataframe tbody tr th {\n",
              "        vertical-align: top;\n",
              "    }\n",
              "\n",
              "    .dataframe thead th {\n",
              "        text-align: right;\n",
              "    }\n",
              "</style>\n",
              "<table border=\"1\" class=\"dataframe\">\n",
              "  <thead>\n",
              "    <tr style=\"text-align: right;\">\n",
              "      <th></th>\n",
              "      <th>Date</th>\n",
              "      <th>Open</th>\n",
              "      <th>High</th>\n",
              "      <th>Low</th>\n",
              "      <th>Close</th>\n",
              "      <th>Volume</th>\n",
              "    </tr>\n",
              "  </thead>\n",
              "  <tbody>\n",
              "    <tr>\n",
              "      <th>0</th>\n",
              "      <td>2010-06-29</td>\n",
              "      <td>1.266667</td>\n",
              "      <td>1.666667</td>\n",
              "      <td>1.169333</td>\n",
              "      <td>1.592667</td>\n",
              "      <td>281494500</td>\n",
              "    </tr>\n",
              "    <tr>\n",
              "      <th>1</th>\n",
              "      <td>2010-06-30</td>\n",
              "      <td>1.719333</td>\n",
              "      <td>2.028000</td>\n",
              "      <td>1.553333</td>\n",
              "      <td>1.588667</td>\n",
              "      <td>257806500</td>\n",
              "    </tr>\n",
              "    <tr>\n",
              "      <th>2</th>\n",
              "      <td>2010-07-01</td>\n",
              "      <td>1.666667</td>\n",
              "      <td>1.728000</td>\n",
              "      <td>1.351333</td>\n",
              "      <td>1.464000</td>\n",
              "      <td>123282000</td>\n",
              "    </tr>\n",
              "    <tr>\n",
              "      <th>3</th>\n",
              "      <td>2010-07-02</td>\n",
              "      <td>1.533333</td>\n",
              "      <td>1.540000</td>\n",
              "      <td>1.247333</td>\n",
              "      <td>1.280000</td>\n",
              "      <td>77097000</td>\n",
              "    </tr>\n",
              "    <tr>\n",
              "      <th>4</th>\n",
              "      <td>2010-07-06</td>\n",
              "      <td>1.333333</td>\n",
              "      <td>1.333333</td>\n",
              "      <td>1.055333</td>\n",
              "      <td>1.074000</td>\n",
              "      <td>103003500</td>\n",
              "    </tr>\n",
              "  </tbody>\n",
              "</table>\n",
              "</div>\n",
              "      <button class=\"colab-df-convert\" onclick=\"convertToInteractive('df-5ab47ffe-fdaa-486c-a9fb-ddbf406d65dc')\"\n",
              "              title=\"Convert this dataframe to an interactive table.\"\n",
              "              style=\"display:none;\">\n",
              "        \n",
              "  <svg xmlns=\"http://www.w3.org/2000/svg\" height=\"24px\"viewBox=\"0 0 24 24\"\n",
              "       width=\"24px\">\n",
              "    <path d=\"M0 0h24v24H0V0z\" fill=\"none\"/>\n",
              "    <path d=\"M18.56 5.44l.94 2.06.94-2.06 2.06-.94-2.06-.94-.94-2.06-.94 2.06-2.06.94zm-11 1L8.5 8.5l.94-2.06 2.06-.94-2.06-.94L8.5 2.5l-.94 2.06-2.06.94zm10 10l.94 2.06.94-2.06 2.06-.94-2.06-.94-.94-2.06-.94 2.06-2.06.94z\"/><path d=\"M17.41 7.96l-1.37-1.37c-.4-.4-.92-.59-1.43-.59-.52 0-1.04.2-1.43.59L10.3 9.45l-7.72 7.72c-.78.78-.78 2.05 0 2.83L4 21.41c.39.39.9.59 1.41.59.51 0 1.02-.2 1.41-.59l7.78-7.78 2.81-2.81c.8-.78.8-2.07 0-2.86zM5.41 20L4 18.59l7.72-7.72 1.47 1.35L5.41 20z\"/>\n",
              "  </svg>\n",
              "      </button>\n",
              "      \n",
              "  <style>\n",
              "    .colab-df-container {\n",
              "      display:flex;\n",
              "      flex-wrap:wrap;\n",
              "      gap: 12px;\n",
              "    }\n",
              "\n",
              "    .colab-df-convert {\n",
              "      background-color: #E8F0FE;\n",
              "      border: none;\n",
              "      border-radius: 50%;\n",
              "      cursor: pointer;\n",
              "      display: none;\n",
              "      fill: #1967D2;\n",
              "      height: 32px;\n",
              "      padding: 0 0 0 0;\n",
              "      width: 32px;\n",
              "    }\n",
              "\n",
              "    .colab-df-convert:hover {\n",
              "      background-color: #E2EBFA;\n",
              "      box-shadow: 0px 1px 2px rgba(60, 64, 67, 0.3), 0px 1px 3px 1px rgba(60, 64, 67, 0.15);\n",
              "      fill: #174EA6;\n",
              "    }\n",
              "\n",
              "    [theme=dark] .colab-df-convert {\n",
              "      background-color: #3B4455;\n",
              "      fill: #D2E3FC;\n",
              "    }\n",
              "\n",
              "    [theme=dark] .colab-df-convert:hover {\n",
              "      background-color: #434B5C;\n",
              "      box-shadow: 0px 1px 3px 1px rgba(0, 0, 0, 0.15);\n",
              "      filter: drop-shadow(0px 1px 2px rgba(0, 0, 0, 0.3));\n",
              "      fill: #FFFFFF;\n",
              "    }\n",
              "  </style>\n",
              "\n",
              "      <script>\n",
              "        const buttonEl =\n",
              "          document.querySelector('#df-5ab47ffe-fdaa-486c-a9fb-ddbf406d65dc button.colab-df-convert');\n",
              "        buttonEl.style.display =\n",
              "          google.colab.kernel.accessAllowed ? 'block' : 'none';\n",
              "\n",
              "        async function convertToInteractive(key) {\n",
              "          const element = document.querySelector('#df-5ab47ffe-fdaa-486c-a9fb-ddbf406d65dc');\n",
              "          const dataTable =\n",
              "            await google.colab.kernel.invokeFunction('convertToInteractive',\n",
              "                                                     [key], {});\n",
              "          if (!dataTable) return;\n",
              "\n",
              "          const docLinkHtml = 'Like what you see? Visit the ' +\n",
              "            '<a target=\"_blank\" href=https://colab.research.google.com/notebooks/data_table.ipynb>data table notebook</a>'\n",
              "            + ' to learn more about interactive tables.';\n",
              "          element.innerHTML = '';\n",
              "          dataTable['output_type'] = 'display_data';\n",
              "          await google.colab.output.renderOutput(dataTable, element);\n",
              "          const docLink = document.createElement('div');\n",
              "          docLink.innerHTML = docLinkHtml;\n",
              "          element.appendChild(docLink);\n",
              "        }\n",
              "      </script>\n",
              "    </div>\n",
              "  </div>\n",
              "  "
            ]
          },
          "metadata": {},
          "execution_count": 86
        }
      ],
      "source": [
        "df.head()\n"
      ]
    },
    {
      "cell_type": "code",
      "execution_count": null,
      "metadata": {
        "colab": {
          "base_uri": "https://localhost:8080/"
        },
        "id": "4b68KwqLQwhc",
        "outputId": "1e102340-e4b6-4628-e598-81cb9f97b502"
      },
      "outputs": [
        {
          "output_type": "execute_result",
          "data": {
            "text/plain": [
              "(2980, 6)"
            ]
          },
          "metadata": {},
          "execution_count": 87
        }
      ],
      "source": [
        "df.shape"
      ]
    },
    {
      "cell_type": "code",
      "execution_count": null,
      "metadata": {
        "id": "KH0l-oB0osd9"
      },
      "outputs": [],
      "source": [
        "ma_100days=df.Close.rolling(window=100).mean()\n",
        "ma_200days=df.Close.rolling(window=200).mean()\n",
        "#moving average icin (100 günlük) rolling methodunu kullanıcaz arimadaki gibi \n",
        "#ilk 100 terim na olcak cünkü 0. index ile 100. indexin meanini alıp 100. indexe atıyor, bu durumda 0. index bos kalıyor.\n",
        "#200 günlük hareketli ortalama (moving average)"
      ]
    },
    {
      "cell_type": "code",
      "execution_count": null,
      "metadata": {
        "colab": {
          "base_uri": "https://localhost:8080/",
          "height": 592
        },
        "id": "TwxjvvCWox0D",
        "outputId": "ce99bc74-2bc8-49c1-c0ac-493ed4c1046d"
      },
      "outputs": [
        {
          "output_type": "display_data",
          "data": {
            "text/plain": [
              "<Figure size 1152x720 with 1 Axes>"
            ],
            "image/png": "[encoded data removed]"
          },
          "metadata": {
            "needs_background": "light"
          }
        }
      ],
      "source": [
        "fig=plt.figure(figsize=(16,10))\n",
        "plt.plot(df.Close,color=\"blue\")\n",
        "plt.plot(ma_100days,color=\"green\")\n",
        "plt.plot(ma_200days,color=\"red\")\n",
        "plt.show()\n",
        "#sonuca bakarsak göreceğiz ki ilk 0'dan 99. indekse kadar bir boşluk olcak, sonrasında grafikte ma yani (hareketli ortalama)'yı görebileceğiz\n",
        "#bu da 100 günlük ve 200 günlük hareketli ortalama demektir "
      ]
    },
    {
      "cell_type": "code",
      "execution_count": null,
      "metadata": {
        "id": "Gq2jxZsIo48x"
      },
      "outputs": [],
      "source": [
        "data_training=pd.DataFrame(df.Close[0:int(df.shape[0]*0.7)])\n",
        "data_testing=pd.DataFrame(df.Close[int(df.shape[0]*0.7):int(df.shape[0])])\n",
        "\n",
        "#simdi de training ve testing icin datayı bölelim\n",
        "#fakat bu zaman serisi analizi oldugundan train_test_split methodunu kullanmıcaz ! "
      ]
    },
    {
      "cell_type": "code",
      "execution_count": null,
      "metadata": {
        "id": "7amy_kbapBrQ"
      },
      "outputs": [],
      "source": [
        "from sklearn.preprocessing import MinMaxScaler"
      ]
    },
    {
      "cell_type": "code",
      "execution_count": null,
      "metadata": {
        "id": "0wv6NKQCpEGH"
      },
      "outputs": [],
      "source": [
        "ct=MinMaxScaler(feature_range=(0,1))\n",
        "data_training_scaled=ct.fit_transform(data_training)\n",
        "\n",
        "#normalizasyon ve scaling icin minmaxscaler kullandık. sebebini tam bilmiyorum ama 0 ile 1 arasında scale ediyor\n",
        "#standartscaler z^2 i kullanıyordu yani -3 ile 3 arası "
      ]
    },
    {
      "cell_type": "code",
      "execution_count": null,
      "metadata": {
        "id": "Mt-IoquWpHtV"
      },
      "outputs": [],
      "source": [
        "X_train,y_train=[],[]\n",
        "\n",
        "for j in range(100,data_training_scaled.shape[0]):\n",
        "\n",
        "    X_train.append(data_training_scaled[j-100:j])\n",
        "    #0-100,1-101,2-102. +...n - n+100. indeksli değerler totalde data_training.shape[0] kadar satıra kaydediliyor\n",
        "    y_train.append(data_training_scaled[j,0])\n",
        "    #j,0 denmesnin sebebi her satırda k'dan k+100 indeksli close değeri oldugundan her satırdaki sadece k. indeksli elemanı alma\n",
        "X_train,y_train=np.array(X_train),np.array(y_train)"
      ]
    },
    {
      "cell_type": "code",
      "source": [
        "past_100days=data_training.tail(100)\n",
        "\n",
        "df_last=past_100days.append(data_testing,ignore_index=True)\n",
        "#bunları yapmamızın sebebi, prediction icin. data_testing'in ilk indexi k olsun, data_training.tail() dediğimizde en başta belirlen(length-5. index)indeks de k-100. indekstir. \n",
        "#rolling ile ilk 100 değeri atladğımız icin past_100days'i de test datasetimize ekliyoruz ."
      ],
      "metadata": {
        "id": "A0DE9T0edgA2"
      },
      "execution_count": null,
      "outputs": []
    },
    {
      "cell_type": "code",
      "source": [
        "input_data=ct.fit_transform(df_last)\n",
        "\n",
        "X_test,y_test=[],[]\n",
        "\n",
        "for k in range(100,input_data.shape[0]):\n",
        "\n",
        "    X_test.append(input_data[k-100:k])\n",
        "    y_test.append(input_data[k,0])\n",
        "\n",
        "X_test,y_test=np.array(X_test),np.array(y_test)"
      ],
      "metadata": {
        "id": "AtzZgOA9dgen"
      },
      "execution_count": null,
      "outputs": []
    },
    {
      "cell_type": "code",
      "execution_count": null,
      "metadata": {
        "id": "vCpX1FyJpWUv"
      },
      "outputs": [],
      "source": [
        "from keras.layers import Dense, Dropout, LSTM\n",
        "from keras.models import Sequential\n",
        "#Model kısmına geciyoz (ml model)"
      ]
    },
    {
      "cell_type": "code",
      "execution_count": null,
      "metadata": {
        "id": "gL0Odj5WpMVq"
      },
      "outputs": [],
      "source": [
        "model=Sequential()\n",
        "\n",
        "model.add(LSTM(units=50,activation=\"tanh\",return_sequences=True,input_shape=(X_train.shape[1],1)))\n",
        "model.add(Dropout(0.2))\n",
        "#bura shape'te 1 dememizin sebebi range'i yüzden baslatınca her satırda aslında 0-100,100-200. elemanlar allocate edildi bu sebeple input_shape 100 olmalıydı\n",
        "model.add(LSTM(units=60,activation=\"tanh\",return_sequences=True))\n",
        "model.add(Dropout(0.3))\n",
        "#The Dropout layer randomly sets input units to 0 with a frequency of rate at each step during training time, which helps prevent overfitting. Inputs not set to 0 are scaled up by 1/(1 - rate) such that the sum over all inputs is unchanged.\n",
        "\n",
        "model.add(LSTM(units=80,activation=\"tanh\",return_sequences=True))\n",
        "model.add(Dropout(0.4))\n",
        "\n",
        "model.add(LSTM(units=120,activation=\"tanh\"))\n",
        "model.add(Dropout(0.5))\n",
        "\n",
        "model.add(Dense(units=1)) \n",
        "#1 parametre tahmini yapmak istediğimiz icin 1 dedik (closing price o parametre ), bütün layerları bir araya getiriyor (4)\n",
        "\n",
        "\n",
        "#https://www.koreascience.or.kr/article/JAKO202025356104177.pdf"
      ]
    },
    {
      "cell_type": "code",
      "execution_count": null,
      "metadata": {
        "colab": {
          "base_uri": "https://localhost:8080/"
        },
        "id": "LHbyBQa0pexd",
        "outputId": "e3b3b1fb-dfa6-4fb0-f097-2fb1cfb9ad3c"
      },
      "outputs": [
        {
          "output_type": "stream",
          "name": "stdout",
          "text": [
            "Model: \"sequential_4\"\n",
            "_________________________________________________________________\n",
            " Layer (type)                Output Shape              Param #   \n",
            "=================================================================\n",
            " lstm_16 (LSTM)              (None, 100, 50)           10400     \n",
            "                                                                 \n",
            " dropout_16 (Dropout)        (None, 100, 50)           0         \n",
            "                                                                 \n",
            " lstm_17 (LSTM)              (None, 100, 60)           26640     \n",
            "                                                                 \n",
            " dropout_17 (Dropout)        (None, 100, 60)           0         \n",
            "                                                                 \n",
            " lstm_18 (LSTM)              (None, 100, 80)           45120     \n",
            "                                                                 \n",
            " dropout_18 (Dropout)        (None, 100, 80)           0         \n",
            "                                                                 \n",
            " lstm_19 (LSTM)              (None, 120)               96480     \n",
            "                                                                 \n",
            " dropout_19 (Dropout)        (None, 120)               0         \n",
            "                                                                 \n",
            " dense_4 (Dense)             (None, 1)                 121       \n",
            "                                                                 \n",
            "=================================================================\n",
            "Total params: 178,761\n",
            "Trainable params: 178,761\n",
            "Non-trainable params: 0\n",
            "_________________________________________________________________\n"
          ]
        }
      ],
      "source": [
        "model.summary()"
      ]
    },
    {
      "cell_type": "code",
      "source": [
        "X_train.shape"
      ],
      "metadata": {
        "colab": {
          "base_uri": "https://localhost:8080/"
        },
        "id": "MOGfY3JcxlzJ",
        "outputId": "c719612a-1fa3-4449-f0d0-0edc2d1f5ee6"
      },
      "execution_count": null,
      "outputs": [
        {
          "output_type": "execute_result",
          "data": {
            "text/plain": [
              "(3425, 100, 1)"
            ]
          },
          "metadata": {},
          "execution_count": 258
        }
      ]
    },
    {
      "cell_type": "code",
      "source": [
        "X_train.shape"
      ],
      "metadata": {
        "colab": {
          "base_uri": "https://localhost:8080/"
        },
        "id": "-XXm4H9k0aSe",
        "outputId": "3bb442b8-95f6-438a-e618-f70a9dfe007c"
      },
      "execution_count": null,
      "outputs": [
        {
          "output_type": "execute_result",
          "data": {
            "text/plain": [
              "(3425, 100, 1)"
            ]
          },
          "metadata": {},
          "execution_count": 259
        }
      ]
    },
    {
      "cell_type": "code",
      "execution_count": null,
      "metadata": {
        "colab": {
          "base_uri": "https://localhost:8080/"
        },
        "id": "pDz4jXJKpU-k",
        "outputId": "d57d3f40-bda0-48b7-8e73-065f86aba1e4"
      },
      "outputs": [
        {
          "output_type": "stream",
          "name": "stdout",
          "text": [
            "Epoch 1/10\n",
            "108/108 [==============================] - 60s 365ms/step - loss: 0.0094 - mean_absolute_error: 0.0556 - val_loss: 0.0010 - val_mean_absolute_error: 0.0212\n",
            "Epoch 2/10\n",
            "108/108 [==============================] - 38s 348ms/step - loss: 0.0036 - mean_absolute_error: 0.0369 - val_loss: 0.0132 - val_mean_absolute_error: 0.0878\n",
            "Epoch 3/10\n",
            "108/108 [==============================] - 38s 351ms/step - loss: 0.0035 - mean_absolute_error: 0.0372 - val_loss: 0.0013 - val_mean_absolute_error: 0.0230\n",
            "Epoch 4/10\n",
            "108/108 [==============================] - 39s 357ms/step - loss: 0.0030 - mean_absolute_error: 0.0343 - val_loss: 0.0013 - val_mean_absolute_error: 0.0245\n",
            "Epoch 5/10\n",
            "108/108 [==============================] - 38s 348ms/step - loss: 0.0027 - mean_absolute_error: 0.0338 - val_loss: 0.0034 - val_mean_absolute_error: 0.0415\n",
            "Epoch 6/10\n",
            "108/108 [==============================] - 37s 344ms/step - loss: 0.0026 - mean_absolute_error: 0.0328 - val_loss: 0.0081 - val_mean_absolute_error: 0.0614\n",
            "Epoch 7/10\n",
            "108/108 [==============================] - 43s 401ms/step - loss: 0.0043 - mean_absolute_error: 0.0430 - val_loss: 8.0100e-04 - val_mean_absolute_error: 0.0187\n",
            "Epoch 8/10\n",
            "108/108 [==============================] - 37s 343ms/step - loss: 0.0020 - mean_absolute_error: 0.0298 - val_loss: 8.1584e-04 - val_mean_absolute_error: 0.0209\n",
            "Epoch 9/10\n",
            "108/108 [==============================] - 37s 341ms/step - loss: 0.0022 - mean_absolute_error: 0.0313 - val_loss: 0.0021 - val_mean_absolute_error: 0.0307\n",
            "Epoch 10/10\n",
            "108/108 [==============================] - 38s 350ms/step - loss: 0.0019 - mean_absolute_error: 0.0292 - val_loss: 6.8932e-04 - val_mean_absolute_error: 0.0174\n"
          ]
        }
      ],
      "source": [
        "model.compile(optimizer=\"adam\",loss=\"mean_squared_error\",metrics=['mean_absolute_error','accuracy'])\n",
        "\n",
        "history=model.fit(X_train,y_train,epochs=100,validation_data=(X_test,y_test))\n",
        "\n",
        "model.save(\"keras_model.h5\")\n",
        "\n",
        "#drive'da yeni save edileni yüklemeyi unutma \n",
        "#tekrar calıstır knk "
      ]
    },
    {
      "cell_type": "code",
      "source": [
        "from google.colab import drive\n",
        "drive.mount('/content/gdrive')"
      ],
      "metadata": {
        "colab": {
          "base_uri": "https://localhost:8080/"
        },
        "id": "dixI3kv4XeNl",
        "outputId": "39a50e25-5d04-4ea9-c3c9-247968c1edb0"
      },
      "execution_count": null,
      "outputs": [
        {
          "output_type": "stream",
          "name": "stdout",
          "text": [
            "Mounted at /content/gdrive\n"
          ]
        }
      ]
    },
    {
      "cell_type": "code",
      "source": [
        "from keras.models import load_model\n",
        "\n",
        "model=load_model(\"keras_model.h5\")"
      ],
      "metadata": {
        "id": "ViiIXNSdPNvk"
      },
      "execution_count": null,
      "outputs": []
    },
    {
      "cell_type": "code",
      "execution_count": null,
      "metadata": {
        "id": "frjk7H0K9bGI",
        "colab": {
          "base_uri": "https://localhost:8080/"
        },
        "outputId": "61d6309a-c619-4139-fca9-edacf59d8d05"
      },
      "outputs": [
        {
          "output_type": "stream",
          "name": "stdout",
          "text": [
            "28/28 [==============================] - 4s 91ms/step\n"
          ]
        }
      ],
      "source": [
        "yhat=model.predict(X_test)"
      ]
    },
    {
      "cell_type": "code",
      "execution_count": null,
      "metadata": {
        "id": "3qDbterG9bId"
      },
      "outputs": [],
      "source": [
        "scale_coeff=1/ct.scale_\n",
        "yhat*=scale_coeff\n",
        "y_test*=scale_coeff\n",
        "\n",
        "#şimdi de scale ettiğimiz değerleri eski haline getirmek icin bir katsayı bulup kendi değerleriyle carpacaz"
      ]
    },
    {
      "cell_type": "code",
      "source": [
        "df.Close"
      ],
      "metadata": {
        "colab": {
          "base_uri": "https://localhost:8080/"
        },
        "id": "ZkZvLnHtl8_y",
        "outputId": "b997499a-fd38-4044-f7a0-ce7164ab732d"
      },
      "execution_count": null,
      "outputs": [
        {
          "output_type": "execute_result",
          "data": {
            "text/plain": [
              "0         1.592667\n",
              "1         1.588667\n",
              "2         1.464000\n",
              "3         1.280000\n",
              "4         1.074000\n",
              "           ...    \n",
              "2975    335.016663\n",
              "2976    332.673340\n",
              "2977    292.140015\n",
              "2978    293.836670\n",
              "2979    292.503326\n",
              "Name: Close, Length: 2980, dtype: float64"
            ]
          },
          "metadata": {},
          "execution_count": 104
        }
      ]
    },
    {
      "cell_type": "code",
      "execution_count": null,
      "metadata": {
        "colab": {
          "base_uri": "https://localhost:8080/",
          "height": 623
        },
        "id": "14gTsARR9bNa",
        "outputId": "00d804b8-8276-48c7-e007-24a37bf09c51"
      },
      "outputs": [
        {
          "output_type": "execute_result",
          "data": {
            "text/plain": [
              "<matplotlib.legend.Legend at 0x7fa985512390>"
            ]
          },
          "metadata": {},
          "execution_count": 102
        },
        {
          "output_type": "display_data",
          "data": {
            "text/plain": [
              "<Figure size 1152x720 with 1 Axes>"
            ],
            "image/png": "[encoded data removed]"
          },
          "metadata": {
            "needs_background": "light"
          }
        }
      ],
      "source": [
        "fig=plt.figure(figsize=(16,10))\n",
        "plt.plot(y_test,color=\"blue\",label=\"Actual Price\")\n",
        "plt.plot(yhat,color=\"red\",label=\"Predicted Price\")\n",
        "plt.xlabel(\"Test Number\")\n",
        "plt.ylabel(\"Price\")\n",
        "plt.legend()"
      ]
    },
    {
      "cell_type": "code",
      "source": [],
      "metadata": {
        "id": "4qlS3c8cu440"
      },
      "execution_count": null,
      "outputs": []
    }
  ],
  "metadata": {
    "colab": {
      "collapsed_sections": [],
      "provenance": [],
      "mount_file_id": "1DwjDPwrOBmsahQI6eA1eD-noZcFG2qan",
      "authorship_tag": "ABX9TyMvG8F2SAqUvkItiyNq+9+r",
      "include_colab_link": true
    },
    "kernelspec": {
      "display_name": "Python 3",
      "name": "python3"
    },
    "language_info": {
      "name": "python"
    }
  },
  "nbformat": 4,
  "nbformat_minor": 0
}